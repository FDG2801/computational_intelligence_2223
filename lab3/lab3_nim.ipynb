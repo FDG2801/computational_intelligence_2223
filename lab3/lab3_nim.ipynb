{
 "cells": [
  {
   "cell_type": "markdown",
   "metadata": {
    "collapsed": false,
    "pycharm": {
     "name": "#%% md\n"
    }
   },
   "source": [
    "# Lab 3: Policy Search\n",
    "\n",
    "## Task\n",
    "\n",
    "Write agents able to play [*Nim*](https://en.wikipedia.org/wiki/Nim), with an arbitrary number of rows and an upper bound $k$ on the number of objects that can be removed in a turn (a.k.a., *subtraction game*).\n",
    "\n",
    "The player **taking the last object wins**.\n",
    "\n",
    "* Task3.1: An agent using fixed rules based on *nim-sum* (i.e., an *expert system*)\n",
    "* Task3.2: An agent using evolved rules\n",
    "* Task3.3: An agent using minmax\n",
    "* Task3.4: An agent using reinforcement learning\n",
    "\n",
    "## Instructions\n",
    "\n",
    "* Create the directory `lab3` inside the course repo \n",
    "* Put a `README.md` and your solution (all the files, code and auxiliary data if needed)"
   ]
  },
  {
   "cell_type": "code",
   "execution_count": 1,
   "metadata": {
    "collapsed": false,
    "pycharm": {
     "name": "#%%\n"
    }
   },
   "outputs": [],
   "source": [
    "%load_ext autoreload\n",
    "%autoreload 2\n",
    "\n",
    "from task1_lib import gabriele, pure_random, fixed_rules_strategy\n",
    "from task2_lib import run_GA, strategy_0, strategy_1\n",
    "from nim_utils import evaluate, evaluate_GA, play_match"
   ]
  },
  {
   "cell_type": "markdown",
   "metadata": {
    "collapsed": false,
    "pycharm": {
     "name": "#%% md\n"
    }
   },
   "source": [
    "# Task 1"
   ]
  },
  {
   "cell_type": "code",
   "execution_count": 21,
   "metadata": {
    "collapsed": false,
    "pycharm": {
     "name": "#%%\n"
    }
   },
   "outputs": [
    {
     "name": "stdout",
     "output_type": "stream",
     "text": [
      "Win-rate against gabriele: 1.0\n",
      "Win-rate against pure_random: 0.92\n"
     ]
    }
   ],
   "source": [
    "NUM_MATCHES = 100\n",
    "NIM_SIZE = 10\n",
    "K_SIZE = None\n",
    "\n",
    "print(f\"Win-rate against {gabriele.__name__}: {evaluate(fixed_rules_strategy, gabriele, NUM_MATCHES, NIM_SIZE, k_size=K_SIZE)}\")\n",
    "print(f\"Win-rate against {pure_random.__name__}: {evaluate(fixed_rules_strategy, pure_random, NUM_MATCHES, NIM_SIZE, k_size=K_SIZE)}\")\n"
   ]
  },
  {
   "cell_type": "markdown",
   "metadata": {
    "collapsed": false,
    "pycharm": {
     "name": "#%% md\n"
    }
   },
   "source": [
    "# Task 2"
   ]
  },
  {
   "cell_type": "code",
   "execution_count": 22,
   "metadata": {
    "collapsed": false,
    "pycharm": {
     "name": "#%%\n"
    }
   },
   "outputs": [
    {
     "name": "stdout",
     "output_type": "stream",
     "text": [
      "[info] - Strategy 0 results...\n",
      "[info] - Start generating the population\n"
     ]
    },
    {
     "name": "stderr",
     "output_type": "stream",
     "text": [
      "100%|██████████| 50/50 [00:03<00:00, 16.20it/s]\n"
     ]
    },
    {
     "name": "stdout",
     "output_type": "stream",
     "text": [
      "[info] - Evolving...\n"
     ]
    },
    {
     "name": "stderr",
     "output_type": "stream",
     "text": [
      "100%|██████████| 150/150 [03:32<00:00,  1.42s/it]\n"
     ]
    },
    {
     "name": "stdout",
     "output_type": "stream",
     "text": [
      "[info] - Best genome found is {'alpha': 0.33806644070961167, 'beta': 0.8983983212868427, 'gamma': 0.9974669535320325} with fitness: (0.92, 0.43)\n",
      "Win-rate against gabriele: 0.81\n",
      "Win-rate against pure_random: 0.43\n",
      "[info] - Strategy 1 results...\n",
      "[info] - Start generating the population\n"
     ]
    },
    {
     "name": "stderr",
     "output_type": "stream",
     "text": [
      "100%|██████████| 50/50 [00:02<00:00, 23.23it/s]\n"
     ]
    },
    {
     "name": "stdout",
     "output_type": "stream",
     "text": [
      "[info] - Evolving...\n"
     ]
    },
    {
     "name": "stderr",
     "output_type": "stream",
     "text": [
      "100%|██████████| 30/30 [00:25<00:00,  1.20it/s]"
     ]
    },
    {
     "name": "stdout",
     "output_type": "stream",
     "text": [
      "[info] - Best genome found is {'alpha': 0.9558146846435235, 'beta': 0.297372949592574} with fitness: (1.0, 0.99)\n",
      "Win-rate against gabriele: 1.0\n",
      "Win-rate against pure_random: 0.87\n"
     ]
    },
    {
     "name": "stderr",
     "output_type": "stream",
     "text": [
      "\n"
     ]
    }
   ],
   "source": [
    "# Strategy 0\n",
    "print(f\"[info] - Strategy 0 results...\")\n",
    "genome_parameters = [\"alpha\", \"beta\", \"gamma\"]\n",
    "num_generations = 150\n",
    "best_genome = run_GA(genome_parameters, strategy_0, num_generations)\n",
    "\n",
    "print(f\"Win-rate against gabriele: {evaluate_GA(best_genome, strategy_0, gabriele, NUM_MATCHES, NIM_SIZE, k_size=K_SIZE)}\")\n",
    "print(f\"Win-rate against pure_random: {evaluate_GA(best_genome, strategy_0, pure_random, NUM_MATCHES, NIM_SIZE, k_size=K_SIZE)}\")\n",
    "\n",
    "# Strategy 1\n",
    "print(f\"[info] - Strategy 1 results...\")\n",
    "genome_parameters = [\"alpha\", \"beta\"]\n",
    "num_generations = 30\n",
    "best_genome = run_GA(genome_parameters, strategy_1, num_generations)\n",
    "\n",
    "print(f\"Win-rate against gabriele: {evaluate_GA(best_genome, strategy_1, gabriele, NUM_MATCHES, NIM_SIZE, k_size=K_SIZE)}\")\n",
    "print(f\"Win-rate against pure_random: {evaluate_GA(best_genome, strategy_1, pure_random, NUM_MATCHES, NIM_SIZE, k_size=K_SIZE)}\")"
   ]
  },
  {
   "cell_type": "markdown",
   "metadata": {
    "collapsed": false,
    "pycharm": {
     "name": "#%% md\n"
    }
   },
   "source": [
    "# Challenge (random tuning (0) vs rules-guided tuning (1))\n"
   ]
  },
  {
   "cell_type": "code",
   "execution_count": 32,
   "metadata": {
    "collapsed": false,
    "pycharm": {
     "name": "#%%\n"
    }
   },
   "outputs": [
    {
     "data": {
      "text/plain": [
       "0.22"
      ]
     },
     "execution_count": 32,
     "metadata": {},
     "output_type": "execute_result"
    }
   ],
   "source": [
    "import random\n",
    "from nimply import Nim\n",
    "\n",
    "\n",
    "def challenge(genome0, strategy_0, genome1, strategy_1, num_matches=100, nim_size=10, k_size=None):\n",
    "    won = 0\n",
    "\n",
    "    for m in range(num_matches):\n",
    "        nim = Nim(nim_size, k=k_size)\n",
    "        player = random.randint(0, 1)\n",
    "        while nim:\n",
    "            if player == 0:\n",
    "                ply = strategy_0(nim, genome0)\n",
    "            else:\n",
    "                ply = strategy_1(nim, genome1)\n",
    "            nim.nimming(ply)\n",
    "            player = 1 - player\n",
    "        if player == 1:\n",
    "            won += 1\n",
    "    return won / num_matches\n",
    "\n",
    "genome0 = {'alpha': 0.33806644070961167, 'beta': 0.8983983212868427, 'gamma': 0.9974669535320325}\n",
    "genome1 = {'alpha': 0.8191618758747532, 'beta': 0.10484407005864857}\n",
    "\n",
    "challenge(genome0, strategy_0, genome1, strategy_1)"
   ]
  },
  {
   "cell_type": "markdown",
   "metadata": {
    "collapsed": false,
    "pycharm": {
     "name": "#%% md\n"
    }
   },
   "source": [
    "# Task 3"
   ]
  },
  {
   "cell_type": "markdown",
   "metadata": {},
   "source": [
    "An agent using minmax"
   ]
  },
  {
   "cell_type": "code",
   "execution_count": 14,
   "metadata": {},
   "outputs": [],
   "source": [
    "from nimply import Nimply\n",
    "from nimply import Nim\n",
    "from copy import deepcopy\n",
    "\n",
    "\"\"\"\n",
    "Generic implementation\n",
    "\n",
    "def minimax(currentpos,depth,maximizingplayer):\n",
    "    if depth==0:\n",
    "        return currentpos\n",
    "    if maximizingplayer: #we want to get the max\n",
    "        maxEval=-infinity\n",
    "        for each child of position\n",
    "            eval=minimax(child,depth-1,false)\n",
    "            maxEval=max(maxEval,eval)\n",
    "        return maxEval\n",
    "\n",
    "    else\n",
    "        minEval=+infinity\n",
    "        for each child of position\n",
    "            eval=minimax(minEval,eval)\n",
    "            minEvail=min(minEval,eval)\n",
    "        return minEval\n",
    "\"\"\"\n",
    "\n",
    "\"\"\"\n",
    "With possible_new_states(), \n",
    "you calculate the possible next states while making sure that a player can’t take more counters than those available on the board.\n",
    "\"\"\"\n",
    "def possible_moves(state: Nim):\n",
    "    # retrieve all the possible moves\n",
    "    #state is NIM so it is needed to explicitly use rows\n",
    "    return [(r, o) for r, c in enumerate(state.rows) for o in range(1, c+1)]\n",
    "\n",
    "def possible_new_states(state: Nim):\n",
    "    # returns a list of outcome of all possible moves\n",
    "    states = []\n",
    "    #check available states\n",
    "    for p in possible_moves(state):\n",
    "        tmp = deepcopy(state)\n",
    "        tmp.nimming(Nimply(p[0], p[1]))\n",
    "        states.append(tmp)\n",
    "    return states\n",
    "\"\"\"\n",
    "You evaluate a game position with evaluate(). \n",
    "If there are no counters left, then the function returns 1 if the maximizing player won the game and -1 if the other—minimizing—player won. \n",
    "If the game isn’t over, execution will continue to the end of the function and implicitly return None.\n",
    "\"\"\"\n",
    "def evaluate(state, is_maximizing):\n",
    "    if state == 0:\n",
    "        return 1 if is_maximizing else -1\n",
    "        \n",
    "#understand the best possible move to do (highest in score)\n",
    "\n",
    "#minmax strategy\n",
    "def minimax(state: Nim, is_maximizing):\n",
    "    #ending position\n",
    "    if sum(r for r in state.rows) == 0:\n",
    "        return -1 if is_maximizing else 1\n",
    "\n",
    "\n",
    "    if is_maximizing:\n",
    "        scores = [\n",
    "            minimax(new_state, is_maximizing=False)\n",
    "            for new_state in possible_new_states(state)\n",
    "        ]\n",
    "        return max(scores)\n",
    "    else:\n",
    "        scores = [\n",
    "            minimax(new_state, is_maximizing=True)\n",
    "            for new_state in possible_new_states(state)\n",
    "        ]\n",
    "        return min(scores)\n",
    "#max_turn=is_maximizing\n",
    "\n",
    "def minmax_strategy(state:Nim):\n",
    "    for move in possible_moves(state):\n",
    "        #from lecture code\n",
    "        tmp = deepcopy(state)\n",
    "        tmp.nimming(Nimply(move[0], move[1]))\n",
    "        #calculate the score\n",
    "        score = minimax(tmp, is_maximizing=False)\n",
    "        if score > 0:\n",
    "            break\n",
    "    return Nimply(move[0], move[1])\n",
    "\n",
    "#-------------------------- With alpha and beta pruning -----------------------------\n",
    "\"\"\"\n",
    "alpha will represent the minimum score that the maximizing player is ensured.\n",
    "beta will represent the maximum score that the minimizing player is ensured.\n",
    "\"\"\"\n",
    "\n",
    "def minimax_pruning(state, is_maximizing,alpha=-0.5, beta=1):\n",
    "    #ending position\n",
    "    if sum(r for r in state.rows) == 0:\n",
    "        return -1 if is_maximizing else 1\n",
    "\n",
    "    scores = []\n",
    "    for new_state in possible_new_states(state):\n",
    "        scores.append(\n",
    "            score := minimax_pruning(new_state, not is_maximizing, alpha, beta)\n",
    "        )\n",
    "        if is_maximizing:\n",
    "            alpha = max(alpha, score)\n",
    "        else:\n",
    "            beta = min(beta, score)\n",
    "        if beta <= alpha:\n",
    "            break\n",
    "    return (max if is_maximizing else min)(scores)\n",
    "\n",
    "def minmax_strategy_pruning(state:Nim):\n",
    "    for move in possible_moves(state):\n",
    "        #from lecture code\n",
    "        tmp = deepcopy(state)\n",
    "        tmp.nimming(Nimply(move[0], move[1]))\n",
    "        #calculate the score\n",
    "        score = minimax_pruning(tmp, False)\n",
    "        if score > 0:\n",
    "            break\n",
    "    return Nimply(move[0], move[1])"
   ]
  },
  {
   "cell_type": "markdown",
   "metadata": {},
   "source": [
    "Oversimplified match "
   ]
  },
  {
   "cell_type": "code",
   "execution_count": 8,
   "metadata": {},
   "outputs": [
    {
     "name": "stderr",
     "output_type": "stream",
     "text": [
      "DEBUG:root:status: Initial board  -> <1 3 5>\n",
      "DEBUG:root:status: After player 0 -> <1 3 4>\n",
      "DEBUG:root:status: After player 1 -> <1 3 2>\n",
      "DEBUG:root:status: After player 0 -> <1 1 2>\n",
      "DEBUG:root:status: After player 1 -> <1 1 0>\n",
      "DEBUG:root:status: After player 0 -> <0 1 0>\n",
      "DEBUG:root:status: After player 1 -> <0 0 0>\n",
      "INFO:root:status: Player 1 won!\n"
     ]
    },
    {
     "name": "stdout",
     "output_type": "stream",
     "text": [
      "--- 0.13497161865234375 seconds ---\n"
     ]
    }
   ],
   "source": [
    "import logging\n",
    "import random\n",
    "from task1_lib import gabriele, pure_random, fixed_rules_strategy\n",
    "import time\n",
    "start_time = time.time()\n",
    "\n",
    "logging.getLogger().setLevel(logging.DEBUG)\n",
    "\n",
    "# strategy = (pure_random, minmax_best_move)\n",
    "# strategy = (minmax_best_move, pure_random)\n",
    "strategy = (pure_random, minmax_strategy)\n",
    "# strategy = (minmax_best_move, optimal_strategy)\n",
    "\n",
    "nim = Nim(3)\n",
    "\n",
    "logging.debug(f\"status: Initial board  -> {nim}\")\n",
    "player = 0\n",
    "while nim:\n",
    "    ply = strategy[player](nim)\n",
    "    nim.nimming(ply)\n",
    "    logging.debug(f\"status: After player {player} -> {nim}\")\n",
    "    player = 1 - player\n",
    "winner = 1 - player\n",
    "logging.info(f\"status: Player {winner} won!\")\n",
    "\n",
    "\n",
    "print(\"--- %s seconds ---\" % (time.time() - start_time))"
   ]
  },
  {
   "cell_type": "code",
   "execution_count": 15,
   "metadata": {},
   "outputs": [
    {
     "name": "stderr",
     "output_type": "stream",
     "text": [
      "DEBUG:root:status: Initial board  -> <1 3 5>\n",
      "DEBUG:root:status: After player 0 -> <1 3 4>\n",
      "DEBUG:root:status: After player 1 -> <1 3 2>\n",
      "DEBUG:root:status: After player 0 -> <1 0 2>\n",
      "DEBUG:root:status: After player 1 -> <1 0 1>\n",
      "DEBUG:root:status: After player 0 -> <1 0 0>\n",
      "DEBUG:root:status: After player 1 -> <0 0 0>\n",
      "INFO:root:status: Player 1 won!\n"
     ]
    },
    {
     "name": "stdout",
     "output_type": "stream",
     "text": [
      "--- 0.053972721099853516 seconds ---\n"
     ]
    }
   ],
   "source": [
    "import logging\n",
    "import random\n",
    "from task1_lib import gabriele, pure_random, fixed_rules_strategy\n",
    "import time\n",
    "start_time = time.time()\n",
    "\n",
    "logging.getLogger().setLevel(logging.DEBUG)\n",
    "\n",
    "strategy = (pure_random, minmax_strategy_pruning)\n",
    "\n",
    "nim = Nim(3)\n",
    "\n",
    "logging.debug(f\"status: Initial board  -> {nim}\")\n",
    "player = 0\n",
    "while nim:\n",
    "    ply = strategy[player](nim)\n",
    "    nim.nimming(ply)\n",
    "    logging.debug(f\"status: After player {player} -> {nim}\")\n",
    "    player = 1 - player\n",
    "winner = 1 - player\n",
    "logging.info(f\"status: Player {winner} won!\")\n",
    "print(\"--- %s seconds ---\" % (time.time() - start_time))"
   ]
  },
  {
   "cell_type": "markdown",
   "metadata": {
    "collapsed": false,
    "pycharm": {
     "name": "#%% md\n"
    }
   },
   "source": [
    "# Task 4"
   ]
  },
  {
   "cell_type": "markdown",
   "metadata": {
    "collapsed": false,
    "pycharm": {
     "name": "#%% md\n"
    }
   },
   "source": [
    "## Oversimplified match"
   ]
  },
  {
   "cell_type": "code",
   "execution_count": 77,
   "metadata": {
    "collapsed": false,
    "pycharm": {
     "name": "#%%\n"
    }
   },
   "outputs": [
    {
     "ename": "NameError",
     "evalue": "name 'play_match' is not defined",
     "output_type": "error",
     "traceback": [
      "\u001b[1;31m---------------------------------------------------------------------------\u001b[0m",
      "\u001b[1;31mNameError\u001b[0m                                 Traceback (most recent call last)",
      "\u001b[1;32m~\\AppData\\Local\\Temp/ipykernel_13972/3594275298.py\u001b[0m in \u001b[0;36m<module>\u001b[1;34m\u001b[0m\n\u001b[1;32m----> 1\u001b[1;33m \u001b[0mplay_match\u001b[0m\u001b[1;33m(\u001b[0m\u001b[0mfixed_rules_strategy\u001b[0m\u001b[1;33m,\u001b[0m \u001b[0mpure_random\u001b[0m\u001b[1;33m,\u001b[0m \u001b[1;36m10\u001b[0m\u001b[1;33m,\u001b[0m \u001b[0mk_size\u001b[0m\u001b[1;33m=\u001b[0m\u001b[1;32mNone\u001b[0m\u001b[1;33m)\u001b[0m\u001b[1;33m\u001b[0m\u001b[1;33m\u001b[0m\u001b[0m\n\u001b[0m",
      "\u001b[1;31mNameError\u001b[0m: name 'play_match' is not defined"
     ]
    }
   ],
   "source": [
    "play_match(fixed_rules_strategy, pure_random, 10, k_size=None)"
   ]
  }
 ],
 "metadata": {
  "kernelspec": {
   "display_name": "Python 3.9.7 ('base')",
   "language": "python",
   "name": "python3"
  },
  "language_info": {
   "codemirror_mode": {
    "name": "ipython",
    "version": 3
   },
   "file_extension": ".py",
   "mimetype": "text/x-python",
   "name": "python",
   "nbconvert_exporter": "python",
   "pygments_lexer": "ipython3",
   "version": "3.8.5 (default, Sep  3 2020, 21:29:08) [MSC v.1916 64 bit (AMD64)]"
  },
  "vscode": {
   "interpreter": {
    "hash": "cc76675e192ef18b6983e17795f5033d0dffe1a6388d7e5181d644cbc9b8fa63"
   }
  }
 },
 "nbformat": 4,
 "nbformat_minor": 2
}
