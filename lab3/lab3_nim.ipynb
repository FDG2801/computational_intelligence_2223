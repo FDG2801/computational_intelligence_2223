{
 "cells": [
  {
   "cell_type": "markdown",
   "metadata": {
    "collapsed": false,
    "pycharm": {
     "name": "#%% md\n"
    }
   },
   "source": [
    "# Lab 3: Policy Search\n",
    "\n",
    "## Task\n",
    "\n",
    "Write agents able to play [*Nim*](https://en.wikipedia.org/wiki/Nim), with an arbitrary number of rows and an upper bound $k$ on the number of objects that can be removed in a turn (a.k.a., *subtraction game*).\n",
    "\n",
    "The player **taking the last object wins**.\n",
    "\n",
    "* Task3.1: An agent using fixed rules based on *nim-sum* (i.e., an *expert system*)\n",
    "* Task3.2: An agent using evolved rules\n",
    "* Task3.3: An agent using minmax\n",
    "* Task3.4: An agent using reinforcement learning\n",
    "\n",
    "## Instructions\n",
    "\n",
    "* Create the directory `lab3` inside the course repo \n",
    "* Put a `README.md` and your solution (all the files, code and auxiliary data if needed)"
   ]
  },
  {
   "cell_type": "code",
   "execution_count": 20,
   "metadata": {
    "collapsed": false,
    "pycharm": {
     "name": "#%%\n"
    }
   },
   "outputs": [
    {
     "name": "stdout",
     "output_type": "stream",
     "text": [
      "The autoreload extension is already loaded. To reload it, use:\n",
      "  %reload_ext autoreload\n"
     ]
    }
   ],
   "source": [
    "%load_ext autoreload\n",
    "%autoreload 2\n",
    "\n",
    "from task1_lib import gabriele, pure_random, fixed_rules_strategy\n",
    "from task2_lib import run_GA, strategy_0, strategy_1\n",
    "from nim_utils import evaluate, evaluate_GA, play_match"
   ]
  },
  {
   "cell_type": "markdown",
   "metadata": {
    "collapsed": false,
    "pycharm": {
     "name": "#%% md\n"
    }
   },
   "source": [
    "# Task 1"
   ]
  },
  {
   "cell_type": "code",
   "execution_count": 21,
   "metadata": {
    "collapsed": false,
    "pycharm": {
     "name": "#%%\n"
    }
   },
   "outputs": [
    {
     "name": "stdout",
     "output_type": "stream",
     "text": [
      "Win-rate against gabriele: 1.0\n",
      "Win-rate against pure_random: 0.92\n"
     ]
    }
   ],
   "source": [
    "NUM_MATCHES = 100\n",
    "NIM_SIZE = 10\n",
    "K_SIZE = None\n",
    "\n",
    "print(f\"Win-rate against {gabriele.__name__}: {evaluate(fixed_rules_strategy, gabriele, NUM_MATCHES, NIM_SIZE, k_size=K_SIZE)}\")\n",
    "print(f\"Win-rate against {pure_random.__name__}: {evaluate(fixed_rules_strategy, pure_random, NUM_MATCHES, NIM_SIZE, k_size=K_SIZE)}\")\n"
   ]
  },
  {
   "cell_type": "markdown",
   "metadata": {
    "collapsed": false,
    "pycharm": {
     "name": "#%% md\n"
    }
   },
   "source": [
    "# Task 2"
   ]
  },
  {
   "cell_type": "code",
   "execution_count": 22,
   "metadata": {
    "collapsed": false,
    "pycharm": {
     "name": "#%%\n"
    }
   },
   "outputs": [
    {
     "name": "stdout",
     "output_type": "stream",
     "text": [
      "[info] - Strategy 0 results...\n",
      "[info] - Start generating the population\n"
     ]
    },
    {
     "name": "stderr",
     "output_type": "stream",
     "text": [
      "100%|██████████| 50/50 [00:03<00:00, 16.20it/s]\n"
     ]
    },
    {
     "name": "stdout",
     "output_type": "stream",
     "text": [
      "[info] - Evolving...\n"
     ]
    },
    {
     "name": "stderr",
     "output_type": "stream",
     "text": [
      "100%|██████████| 150/150 [03:32<00:00,  1.42s/it]\n"
     ]
    },
    {
     "name": "stdout",
     "output_type": "stream",
     "text": [
      "[info] - Best genome found is {'alpha': 0.33806644070961167, 'beta': 0.8983983212868427, 'gamma': 0.9974669535320325} with fitness: (0.92, 0.43)\n",
      "Win-rate against gabriele: 0.81\n",
      "Win-rate against pure_random: 0.43\n",
      "[info] - Strategy 1 results...\n",
      "[info] - Start generating the population\n"
     ]
    },
    {
     "name": "stderr",
     "output_type": "stream",
     "text": [
      "100%|██████████| 50/50 [00:02<00:00, 23.23it/s]\n"
     ]
    },
    {
     "name": "stdout",
     "output_type": "stream",
     "text": [
      "[info] - Evolving...\n"
     ]
    },
    {
     "name": "stderr",
     "output_type": "stream",
     "text": [
      "100%|██████████| 30/30 [00:25<00:00,  1.20it/s]"
     ]
    },
    {
     "name": "stdout",
     "output_type": "stream",
     "text": [
      "[info] - Best genome found is {'alpha': 0.9558146846435235, 'beta': 0.297372949592574} with fitness: (1.0, 0.99)\n",
      "Win-rate against gabriele: 1.0\n",
      "Win-rate against pure_random: 0.87\n"
     ]
    },
    {
     "name": "stderr",
     "output_type": "stream",
     "text": [
      "\n"
     ]
    }
   ],
   "source": [
    "# Strategy 0\n",
    "print(f\"[info] - Strategy 0 results...\")\n",
    "genome_parameters = [\"alpha\", \"beta\", \"gamma\"]\n",
    "num_generations = 150\n",
    "best_genome = run_GA(genome_parameters, strategy_0, num_generations)\n",
    "\n",
    "print(f\"Win-rate against gabriele: {evaluate_GA(best_genome, strategy_0, gabriele, NUM_MATCHES, NIM_SIZE, k_size=K_SIZE)}\")\n",
    "print(f\"Win-rate against pure_random: {evaluate_GA(best_genome, strategy_0, pure_random, NUM_MATCHES, NIM_SIZE, k_size=K_SIZE)}\")\n",
    "\n",
    "# Strategy 1\n",
    "print(f\"[info] - Strategy 1 results...\")\n",
    "genome_parameters = [\"alpha\", \"beta\"]\n",
    "num_generations = 30\n",
    "best_genome = run_GA(genome_parameters, strategy_1, num_generations)\n",
    "\n",
    "print(f\"Win-rate against gabriele: {evaluate_GA(best_genome, strategy_1, gabriele, NUM_MATCHES, NIM_SIZE, k_size=K_SIZE)}\")\n",
    "print(f\"Win-rate against pure_random: {evaluate_GA(best_genome, strategy_1, pure_random, NUM_MATCHES, NIM_SIZE, k_size=K_SIZE)}\")"
   ]
  },
  {
   "cell_type": "markdown",
   "metadata": {
    "collapsed": false,
    "pycharm": {
     "name": "#%% md\n"
    }
   },
   "source": [
    "# Challenge (random tuning (0) vs rules-guided tuning (1))\n"
   ]
  },
  {
   "cell_type": "code",
   "execution_count": 32,
   "metadata": {
    "collapsed": false,
    "pycharm": {
     "name": "#%%\n"
    }
   },
   "outputs": [
    {
     "data": {
      "text/plain": [
       "0.22"
      ]
     },
     "execution_count": 32,
     "metadata": {},
     "output_type": "execute_result"
    }
   ],
   "source": [
    "import random\n",
    "from nimply import Nim\n",
    "\n",
    "\n",
    "def challenge(genome0, strategy_0, genome1, strategy_1, num_matches=100, nim_size=10, k_size=None):\n",
    "    won = 0\n",
    "\n",
    "    for m in range(num_matches):\n",
    "        nim = Nim(nim_size, k=k_size)\n",
    "        player = random.randint(0, 1)\n",
    "        while nim:\n",
    "            if player == 0:\n",
    "                ply = strategy_0(nim, genome0)\n",
    "            else:\n",
    "                ply = strategy_1(nim, genome1)\n",
    "            nim.nimming(ply)\n",
    "            player = 1 - player\n",
    "        if player == 1:\n",
    "            won += 1\n",
    "    return won / num_matches\n",
    "\n",
    "genome0 = {'alpha': 0.33806644070961167, 'beta': 0.8983983212868427, 'gamma': 0.9974669535320325}\n",
    "genome1 = {'alpha': 0.8191618758747532, 'beta': 0.10484407005864857}\n",
    "\n",
    "challenge(genome0, strategy_0, genome1, strategy_1)"
   ]
  },
  {
   "cell_type": "markdown",
   "metadata": {
    "collapsed": false,
    "pycharm": {
     "name": "#%% md\n"
    }
   },
   "source": [
    "# Task 3"
   ]
  },
  {
   "cell_type": "markdown",
   "metadata": {},
   "source": [
    "An agent using minmax"
   ]
  },
  {
   "cell_type": "markdown",
   "metadata": {},
   "source": [
    "Minmax usage - generic way"
   ]
  },
  {
   "cell_type": "markdown",
   "metadata": {},
   "source": [
    "max_turn keeps track of whether the maxPlayer is the active player or not. To be more general, \n",
    "you can think of the current player as the one who wants to maximize their score. \n",
    "To indicate this, you’ll replace the max_turn flag with is_maximizing."
   ]
  },
  {
   "cell_type": "code",
   "execution_count": null,
   "metadata": {},
   "outputs": [],
   "source": [
    "\"\"\"\n",
    "Generic implementation\n",
    "\n",
    "def minimax(currentpos,depth,maximizingplayer):\n",
    "    if depth==0:\n",
    "        return currentpos\n",
    "    if maximizingplayer: #we want to get the max\n",
    "        maxEval=-infinity\n",
    "        for each child of position\n",
    "            eval=minimax(child,depth-1,false)\n",
    "            maxEval=max(maxEval,eval)\n",
    "        return maxEval\n",
    "\n",
    "    else\n",
    "        minEval=+infinity\n",
    "        for each child of position\n",
    "            eval=minimax(minEval,eval)\n",
    "            minEvail=min(minEval,eval)\n",
    "        return minEval\n",
    "\"\"\"\n",
    "\n",
    "\"\"\"\n",
    "With possible_new_states(), \n",
    "you calculate the possible next states while making sure that a player can’t take more counters than those available on the board.\n",
    "\"\"\"\n",
    "def possible_new_states(state):\n",
    "    return [state - take for take in (1, 2, 3) if take <= state]\n",
    "\"\"\"\n",
    "You evaluate a game position with evaluate(). \n",
    "If there are no counters left, then the function returns 1 if the maximizing player won the game and -1 if the other—minimizing—player won. \n",
    "If the game isn’t over, execution will continue to the end of the function and implicitly return None.\n",
    "\"\"\"\n",
    "def evaluate(state, is_maximizing):\n",
    "    if state == 0:\n",
    "        return 1 if is_maximizing else -1\n",
    "        \n",
    "#understand the best possible move to do (highest in score)\n",
    "def best_move(state):\n",
    "    for take in (1, 2, 3):\n",
    "        new_state = state - take\n",
    "        score = minimax(new_state, max_turn=False)\n",
    "        if score > 0:\n",
    "            break\n",
    "    return score, new_state\n",
    "\n",
    "\"\"\"\n",
    "With possible_new_states(), \n",
    "you calculate the possible next states while making sure that a player can’t take more counters than those available on the board.\n",
    "\"\"\"\n",
    "def minimax(state, is_maximizing):\n",
    "    if (score := evaluate(state, is_maximizing)) is not None:\n",
    "        return score\n",
    "\n",
    "    if is_maximizing:\n",
    "        scores = [\n",
    "            minimax(new_state, is_maximizing=False)\n",
    "            for new_state in possible_new_states(state)\n",
    "        ]\n",
    "        return max(scores)\n",
    "    else:\n",
    "        scores = [\n",
    "            minimax(new_state, is_maximizing=True)\n",
    "            for new_state in possible_new_states(state)\n",
    "        ]\n",
    "        return min(scores)\n",
    "#max_turn=is_maximizing\n",
    "\n"
   ]
  },
  {
   "cell_type": "markdown",
   "metadata": {
    "collapsed": false,
    "pycharm": {
     "name": "#%% md\n"
    }
   },
   "source": [
    "# Task 4"
   ]
  },
  {
   "cell_type": "markdown",
   "metadata": {
    "collapsed": false,
    "pycharm": {
     "name": "#%% md\n"
    }
   },
   "source": [
    "## Oversimplified match"
   ]
  },
  {
   "cell_type": "code",
   "execution_count": 24,
   "metadata": {
    "collapsed": false,
    "pycharm": {
     "name": "#%%\n"
    }
   },
   "outputs": [
    {
     "name": "stdout",
     "output_type": "stream",
     "text": [
      "status: After player 0 -> <1 3 5 1 9 11 13 15 17 19>\n",
      "status: After player 1 -> <1 3 5 1 9 11 2 15 17 19>\n",
      "status: After player 0 -> <1 3 5 1 1 11 2 15 17 19>\n",
      "status: After player 1 -> <1 3 5 1 1 11 2 15 0 19>\n",
      "status: After player 0 -> <1 3 0 1 1 11 2 15 0 19>\n",
      "status: After player 1 -> <1 3 0 1 0 11 2 15 0 19>\n",
      "status: After player 0 -> <1 3 0 1 0 11 2 0 0 19>\n",
      "status: After player 1 -> <1 3 0 1 0 11 1 0 0 19>\n",
      "status: After player 0 -> <1 3 0 1 0 11 1 0 0 1>\n",
      "status: After player 1 -> <1 3 0 0 0 11 1 0 0 1>\n",
      "status: After player 0 -> <1 3 0 0 0 0 1 0 0 1>\n",
      "status: After player 1 -> <0 3 0 0 0 0 1 0 0 1>\n",
      "status: After player 0 -> <0 3 0 0 0 0 0 0 0 1>\n",
      "status: After player 1 -> <0 1 0 0 0 0 0 0 0 1>\n",
      "status: After player 0 -> <0 1 0 0 0 0 0 0 0 0>\n",
      "status: After player 1 -> <0 0 0 0 0 0 0 0 0 0>\n",
      "status: Player 1 won!\n"
     ]
    }
   ],
   "source": [
    "play_match(fixed_rules_strategy, pure_random, 10, k_size=None)"
   ]
  }
 ],
 "metadata": {
  "kernelspec": {
   "display_name": "Python 3.10.4 ('rl_maze-4Ke9Lzut-py3.10')",
   "language": "python",
   "name": "python3"
  },
  "language_info": {
   "codemirror_mode": {
    "name": "ipython",
    "version": 3
   },
   "file_extension": ".py",
   "mimetype": "text/x-python",
   "name": "python",
   "nbconvert_exporter": "python",
   "pygments_lexer": "ipython3",
   "version": "3.10.4"
  },
  "vscode": {
   "interpreter": {
    "hash": "76c6fd3e7641c70c9d8fe1f6df67ef9b74531fbb48c5ca6e5601e4b096943389"
   }
  }
 },
 "nbformat": 4,
 "nbformat_minor": 2
}
