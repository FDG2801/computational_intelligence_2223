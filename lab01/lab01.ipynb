{
 "cells": [
  {
   "cell_type": "markdown",
   "metadata": {},
   "source": [
    "Lib imports"
   ]
  },
  {
   "cell_type": "code",
   "execution_count": 2,
   "metadata": {},
   "outputs": [],
   "source": [
    "from gx_utils import *\n",
    "import logging\n",
    "import numpy as np\n",
    "import random\n",
    "from random import seed, choice\n",
    "from typing import Callable\n",
    "\n",
    "logging.basicConfig(format=\"%(message)s\", level=logging.INFO)"
   ]
  },
  {
   "cell_type": "markdown",
   "metadata": {},
   "source": [
    "Problem definition - lab delivery"
   ]
  },
  {
   "cell_type": "code",
   "execution_count": 3,
   "metadata": {},
   "outputs": [],
   "source": [
    "def problem(N, seed=None):\n",
    "    random.seed(seed)\n",
    "    return [\n",
    "        list(set(random.randint(0, N - 1) for n in range(random.randint(N // 5, N // 2))))\n",
    "        for n in range(random.randint(N, N * 5))\n",
    "    ]"
   ]
  },
  {
   "cell_type": "markdown",
   "metadata": {},
   "source": [
    "Professor's solution - lab delivery"
   ]
  },
  {
   "cell_type": "code",
   "execution_count": null,
   "metadata": {},
   "outputs": [],
   "source": [
    "def greedy(N):\n",
    "    goal = set(range(N))\n",
    "    covered = set()\n",
    "    solution = list()\n",
    "    all_lists = sorted(problem(N, seed=42), key=lambda l: len(l))\n",
    "    print(all_lists, \" all lists\")\n",
    "    while goal != covered:\n",
    "        x = all_lists.pop(0)\n",
    "        print(x, \" x\")\n",
    "        if not set(x) < covered:\n",
    "            solution.append(x)\n",
    "            covered |= set(x)\n",
    "\n",
    "    logging.info(\n",
    "        f\"Greedy solution for N={N}: w={sum(len(_) for _ in solution)} (bloat={(sum(len(_) for _ in solution)-N)/N*100:.0f}%)\"\n",
    "    )\n",
    "    logging.debug(f\"{solution}\")\n",
    "greedy(5)"
   ]
  },
  {
   "cell_type": "code",
   "execution_count": null,
   "metadata": {},
   "outputs": [],
   "source": [
    "GOAL = (np.array(range(5)))\n",
    "logging.info(f\"Goal:\\n{GOAL}\")\n",
    "print(type(GOAL))\n",
    "\n",
    "def goal_test(state):\n",
    "    return state == GOAL"
   ]
  },
  {
   "cell_type": "code",
   "execution_count": null,
   "metadata": {},
   "outputs": [],
   "source": [
    "INITIAL_STATE = problem(5,42)\n",
    "print(len(INITIAL_STATE)) #quante parentesi\n",
    "print((INITIAL_STATE))"
   ]
  },
  {
   "cell_type": "markdown",
   "metadata": {},
   "source": [
    "Greedy solution"
   ]
  },
  {
   "cell_type": "code",
   "execution_count": null,
   "metadata": {},
   "outputs": [],
   "source": [
    "def set_covering_problem_greedy(universe,subsets,costs):\n",
    "    cost=0\n",
    "    visited=0\n",
    "    #create a unique set - source: documentation\n",
    "    elements=set(e for s in subsets for e in s) \n",
    "    if elements!=universe:\n",
    "        return None\n",
    "    covered=set()\n",
    "    solution=[]\n",
    "    while covered!=elements:\n",
    "        subset = max(subsets,key=lambda s: len(s-covered)/costs[subsets.index(s)])\n",
    "        solution.append(subset)\n",
    "        cost+=costs[subsets.index(subset)]\n",
    "        visited=visited+1\n",
    "        covered |= subset\n",
    "    print(\"NUMBER OF VISITED NODES: \",visited)\n",
    "    print(\"w: \",sum(len(_) for _ in solution))\n",
    "    return solution,cost \n",
    "\n",
    "def start(N):\n",
    "    \"\"\" Start: \n",
    "        N: N\n",
    "        I suppose cost are unit\n",
    "    \"\"\"\n",
    "    sub=problem(N,seed=42)\n",
    "    #all costs are 1 \n",
    "    C=np.full(len(sub),1)\n",
    "    #print(\"C \",C) #all 1\n",
    "    universe=set(range(N))\n",
    "    #create a unique set - source: documentation\n",
    "    subsets=[set(element) for element in sub]\n",
    "    costs=C \n",
    "    set_cover,totalCosts=set_covering_problem_greedy(universe,subsets,costs)\n",
    "    print(\"UNIVERSE: \",universe)\n",
    "    print(\"COVERING SETS: \",set_cover)\n",
    "    print(\"COST: \",totalCosts)\n",
    "\n",
    "\n",
    "\n",
    "#N=5\n",
    "print(\"5\")\n",
    "start(5)\n",
    "print(\"----------------------------------------------------------------\")\n",
    "print(\"10\")\n",
    "start(10)\n",
    "print(\"----------------------------------------------------------------\")\n",
    "print(\"20\")\n",
    "start(20)\n",
    "print(\"----------------------------------------------------------------\")\n",
    "print(\"50\")\n",
    "start(50)\n",
    "print(\"----------------------------------------------------------------\")\n",
    "print(\"100\")\n",
    "start(100)\n",
    "print(\"----------------------------------------------------------------\")\n",
    "print(\"500\")\n",
    "start(500)\n",
    "print(\"----------------------------------------------------------------\")\n",
    "print(\"1000\")\n",
    "start(1000)\n",
    "\n"
   ]
  },
  {
   "cell_type": "markdown",
   "metadata": {},
   "source": [
    "Breadth first solution"
   ]
  },
  {
   "cell_type": "code",
   "execution_count": null,
   "metadata": {},
   "outputs": [],
   "source": [
    "def set_covering_problem_bf(universe,subsets,costs):\n",
    "    cost=0\n",
    "    elements=set(e for s in subsets for e in s)\n",
    "    if elements!=universe:\n",
    "        print(\"The subsets don't contain the universe.\")\n",
    "        return None\n",
    "    covered=set()\n",
    "    solution=[]\n",
    "    queue=[]\n",
    "    visited=[]\n",
    "    while covered!=elements:\n",
    "        subset = max(subsets,key=lambda s: len(s-covered))\n",
    "        #print(subset, \" subset\")\n",
    "        queue.append(subset)\n",
    "        x=queue.pop()\n",
    "        if x not in visited:\n",
    "            visited.append(subset)\n",
    "            solution.append(subset)\n",
    "            cost+=costs[subsets.index(subset)]\n",
    "            covered |= subset\n",
    "    print(\"NUMBER OF VISITED NODES: \",len(visited))\n",
    "    print(\"w: \",sum(len(_) for _ in solution))\n",
    "    return solution,cost\n",
    "\n",
    "def start(N):\n",
    "    \"\"\" Start: \n",
    "        N: N\n",
    "        I suppose cost are unit\n",
    "    \"\"\"\n",
    "    sub=problem(N,seed=42)\n",
    "    #all costs are 1 \n",
    "    C=np.full(len(sub),1)\n",
    "    #print(\"C \",C)\n",
    "    universe=set(range(N))\n",
    "    #create a unique set - source: documentation\n",
    "    subsets=[set(element) for element in sub]\n",
    "    costs=C \n",
    "    set_cover,totalCosts=set_covering_problem_bf(universe,subsets,costs)\n",
    "    print(\"UNIVERSE: \",universe)\n",
    "    print(\"COVERING SETS: \",set_cover)\n",
    "    print(\"COST: \",totalCosts)\n",
    "\n",
    "\n",
    "#N=5\n",
    "print(\"5\")\n",
    "start(5)\n",
    "print(\"----------------------------------------------------------------\")\n",
    "print(\"10\")\n",
    "start(10)\n",
    "print(\"----------------------------------------------------------------\")\n",
    "print(\"20\")\n",
    "start(20)\n",
    "print(\"----------------------------------------------------------------\")\n",
    "print(\"50\")\n",
    "start(50)\n",
    "print(\"----------------------------------------------------------------\")\n",
    "print(\"100\")\n",
    "start(100)\n",
    "print(\"----------------------------------------------------------------\")\n",
    "print(\"500\")\n",
    "start(500)\n",
    "print(\"----------------------------------------------------------------\")\n",
    "print(\"1000\")\n",
    "start(1000)\n"
   ]
  }
 ],
 "metadata": {
  "kernelspec": {
   "display_name": "Python 3.8.5 ('base')",
   "language": "python",
   "name": "python3"
  },
  "language_info": {
   "codemirror_mode": {
    "name": "ipython",
    "version": 3
   },
   "file_extension": ".py",
   "mimetype": "text/x-python",
   "name": "python",
   "nbconvert_exporter": "python",
   "pygments_lexer": "ipython3",
   "version": "3.8.5"
  },
  "orig_nbformat": 4,
  "vscode": {
   "interpreter": {
    "hash": "cc76675e192ef18b6983e17795f5033d0dffe1a6388d7e5181d644cbc9b8fa63"
   }
  }
 },
 "nbformat": 4,
 "nbformat_minor": 2
}
