{
 "cells": [
  {
   "cell_type": "markdown",
   "metadata": {},
   "source": [
    "Lib imports"
   ]
  },
  {
   "cell_type": "code",
   "execution_count": 11,
   "metadata": {},
   "outputs": [],
   "source": [
    "from gx_utils import *\n",
    "import logging\n",
    "import numpy as np\n",
    "import random\n",
    "from random import seed, choice\n",
    "from typing import Callable\n",
    "\n",
    "logging.basicConfig(format=\"%(message)s\", level=logging.INFO)"
   ]
  },
  {
   "cell_type": "markdown",
   "metadata": {},
   "source": [
    "Problem definition - lab delivery"
   ]
  },
  {
   "cell_type": "code",
   "execution_count": 12,
   "metadata": {},
   "outputs": [],
   "source": [
    "def problem(N, seed=None):\n",
    "    random.seed(seed)\n",
    "    return [\n",
    "        list(set(random.randint(0, N - 1) for n in range(random.randint(N // 5, N // 2))))\n",
    "        for n in range(random.randint(N, N * 5))\n",
    "    ]"
   ]
  },
  {
   "cell_type": "markdown",
   "metadata": {},
   "source": [
    "Professor's solution - lab delivery"
   ]
  },
  {
   "cell_type": "code",
   "execution_count": 61,
   "metadata": {},
   "outputs": [
    {
     "name": "stderr",
     "output_type": "stream",
     "text": [
      "INFO:root:Greedy solution for N=5: w=5 (bloat=0%)\n"
     ]
    },
    {
     "name": "stdout",
     "output_type": "stream",
     "text": [
      "[[0], [1], [0], [4], [0], [1], [4], [4], [4], [2], [1], [0], [3], [3], [4], [0], [1], [3], [1, 3], [0, 1], [0, 2], [2, 4], [2, 4], [0, 1], [2, 3]]  all lists\n",
      "[0]  x\n",
      "[1]  x\n",
      "[0]  x\n",
      "[4]  x\n",
      "[0]  x\n",
      "[1]  x\n",
      "[4]  x\n",
      "[4]  x\n",
      "[4]  x\n",
      "[2]  x\n",
      "[1]  x\n",
      "[0]  x\n",
      "[3]  x\n"
     ]
    }
   ],
   "source": [
    "def greedy(N):\n",
    "    goal = set(range(N))\n",
    "    covered = set()\n",
    "    solution = list()\n",
    "    all_lists = sorted(problem(N, seed=42), key=lambda l: len(l))\n",
    "    print(all_lists, \" all lists\")\n",
    "    while goal != covered:\n",
    "        x = all_lists.pop(0)\n",
    "        print(x, \" x\")\n",
    "        if not set(x) < covered:\n",
    "            solution.append(x)\n",
    "            covered |= set(x)\n",
    "\n",
    "    logging.info(\n",
    "        f\"Greedy solution for N={N}: w={sum(len(_) for _ in solution)} (bloat={(sum(len(_) for _ in solution)-N)/N*100:.0f}%)\"\n",
    "    )\n",
    "    logging.debug(f\"{solution}\")\n",
    "greedy(5)"
   ]
  },
  {
   "cell_type": "code",
   "execution_count": 14,
   "metadata": {},
   "outputs": [
    {
     "name": "stderr",
     "output_type": "stream",
     "text": [
      "INFO:root:Greedy solution for N=5: w=5 (bloat=0%)\n",
      "INFO:root:Greedy solution for N=10: w=13 (bloat=30%)\n",
      "INFO:root:Greedy solution for N=20: w=46 (bloat=130%)\n",
      "INFO:root:Greedy solution for N=100: w=332 (bloat=232%)\n",
      "INFO:root:Greedy solution for N=500: w=2162 (bloat=332%)\n",
      "INFO:root:Greedy solution for N=1000: w=4652 (bloat=365%)\n"
     ]
    }
   ],
   "source": [
    "logging.getLogger().setLevel(logging.INFO)\n",
    "for N in [5, 10, 20, 100, 500, 1000]:\n",
    "    greedy(N)"
   ]
  },
  {
   "cell_type": "code",
   "execution_count": null,
   "metadata": {},
   "outputs": [],
   "source": [
    "%timeit greedy(1_000)\n"
   ]
  },
  {
   "cell_type": "markdown",
   "metadata": {},
   "source": [
    "Search algorithm"
   ]
  },
  {
   "cell_type": "code",
   "execution_count": 23,
   "metadata": {},
   "outputs": [],
   "source": [
    "class State:\n",
    "    def __init__(self, data: np.ndarray):\n",
    "        self._data = data.copy()\n",
    "        self._data.flags.writeable = False\n",
    "\n",
    "    def __hash__(self):\n",
    "        return hash(bytes(self._data))\n",
    "\n",
    "    def __eq__(self, other):\n",
    "        return bytes(self._data) == bytes(other._data)\n",
    "\n",
    "    def __lt__(self, other):\n",
    "        return bytes(self._data) < bytes(other._data)\n",
    "\n",
    "    def __str__(self):\n",
    "        return str(self._data)\n",
    "\n",
    "    def __repr__(self):\n",
    "        return repr(self._data)\n",
    "\n",
    "    @property\n",
    "    def data(self):\n",
    "        return self._data\n",
    "\n",
    "    def copy_data(self):\n",
    "        return self._data.copy()"
   ]
  },
  {
   "cell_type": "code",
   "execution_count": 37,
   "metadata": {},
   "outputs": [],
   "source": [
    "def search(\n",
    "    initial_state: State,\n",
    "    goal_test: Callable,\n",
    "    parent_state: dict,\n",
    "    state_cost: dict,\n",
    "    priority_function: Callable,\n",
    "    unit_cost: Callable,\n",
    "):\n",
    "    frontier = PriorityQueue()\n",
    "    parent_state.clear()\n",
    "    state_cost.clear()\n",
    "\n",
    "    state = initial_state\n",
    "    parent_state[state] = None\n",
    "    state_cost[state] = 0\n",
    "\n",
    "    while state is not None and not goal_test(state):\n",
    "        for a in possible_actions(state):\n",
    "            new_state = result(state, a)\n",
    "            cost = unit_cost(a)\n",
    "            if new_state not in state_cost and new_state not in frontier:\n",
    "                parent_state[new_state] = state\n",
    "                state_cost[new_state] = state_cost[state] + cost\n",
    "                frontier.push(new_state, p=priority_function(new_state))\n",
    "                logging.debug(f\"Added new node to frontier (cost={state_cost[new_state]})\")\n",
    "            elif new_state in frontier and state_cost[new_state] > state_cost[state] + cost:\n",
    "                old_cost = state_cost[new_state]\n",
    "                parent_state[new_state] = state\n",
    "                state_cost[new_state] = state_cost[state] + cost\n",
    "                logging.debug(f\"Updated node cost in frontier: {old_cost} -> {state_cost[new_state]}\")\n",
    "        if frontier:\n",
    "            state = frontier.pop()\n",
    "        else:\n",
    "            state = None\n",
    "\n",
    "    path = list()\n",
    "    s = state\n",
    "    while s:\n",
    "        path.append(s.copy_data())\n",
    "        s = parent_state[s]\n",
    "\n",
    "    logging.info(f\"Found a solution in {len(path):,} steps; visited {len(state_cost):,} states\")\n",
    "    return list(reversed(path))"
   ]
  },
  {
   "cell_type": "markdown",
   "metadata": {},
   "source": [
    "GOAL E INITIAL STATE"
   ]
  },
  {
   "cell_type": "code",
   "execution_count": 54,
   "metadata": {},
   "outputs": [
    {
     "name": "stderr",
     "output_type": "stream",
     "text": [
      "INFO:root:Goal:\n",
      "[0 1 2 3 4]\n"
     ]
    },
    {
     "name": "stdout",
     "output_type": "stream",
     "text": [
      "<class 'numpy.ndarray'>\n"
     ]
    }
   ],
   "source": [
    "GOAL = (np.array(range(5)))\n",
    "logging.info(f\"Goal:\\n{GOAL}\")\n",
    "print(type(GOAL))\n",
    "\n",
    "def goal_test(state):\n",
    "    return state == GOAL"
   ]
  },
  {
   "cell_type": "code",
   "execution_count": null,
   "metadata": {},
   "outputs": [],
   "source": [
    "INITIAL_STATE = problem(5,42)\n",
    "print(len(INITIAL_STATE)) #quante parentesi\n",
    "print((INITIAL_STATE))"
   ]
  },
  {
   "cell_type": "code",
   "execution_count": 70,
   "metadata": {},
   "outputs": [
    {
     "name": "stdout",
     "output_type": "stream",
     "text": [
      "5\n",
      "C  [1 1 1 1 1 1 1 1 1 1 1 1 1 1 1 1 1 1 1 1 1 1 1 1 1]\n",
      "VISITED NODES:  3\n",
      "UNIVERSE:  {0, 1, 2, 3, 4}\n",
      "COVERING SETS:  [{1, 3}, {0, 2}, {4}]\n",
      "COST:  3\n",
      "----------------------------------------------------------------\n",
      "10\n",
      "C  [1 1 1 1 1 1 1 1 1 1 1 1 1 1 1 1 1 1 1 1 1 1 1 1 1 1 1 1 1 1 1 1 1 1 1 1 1\n",
      " 1 1 1 1 1 1 1 1 1 1 1 1 1]\n",
      "VISITED NODES:  3\n",
      "UNIVERSE:  {0, 1, 2, 3, 4, 5, 6, 7, 8, 9}\n",
      "COVERING SETS:  [{0, 3, 4, 7, 9}, {8, 1, 6}, {2, 5, 7}]\n",
      "COST:  3\n",
      "----------------------------------------------------------------\n",
      "20\n",
      "C  [1 1 1 1 1 1 1 1 1 1 1 1 1 1 1 1 1 1 1 1 1 1 1 1 1 1 1 1 1 1 1 1 1 1]\n",
      "VISITED NODES:  4\n",
      "UNIVERSE:  {0, 1, 2, 3, 4, 5, 6, 7, 8, 9, 10, 11, 12, 13, 14, 15, 16, 17, 18, 19}\n",
      "COVERING SETS:  [{0, 3, 5, 8, 9, 10, 13, 14, 17}, {4, 7, 11, 12, 15, 16, 18}, {0, 1, 2, 3, 6, 13, 17, 18}, {0, 6, 16, 17, 19}]\n",
      "COST:  4\n",
      "----------------------------------------------------------------\n",
      "50\n",
      "C  [1 1 1 1 1 1 1 1 1 1 1 1 1 1 1 1 1 1 1 1 1 1 1 1 1 1 1 1 1 1 1 1 1 1 1 1 1\n",
      " 1 1 1 1 1 1 1 1 1 1 1 1 1 1 1 1 1 1 1 1 1 1 1 1 1 1 1 1 1 1 1 1 1 1 1 1 1\n",
      " 1 1 1 1 1 1 1 1 1 1 1 1 1 1 1 1 1 1 1 1 1 1 1 1 1 1 1 1 1 1 1 1 1 1 1 1 1\n",
      " 1 1 1 1 1 1 1 1 1 1 1 1 1 1 1 1 1 1 1 1 1 1 1 1 1 1 1 1 1 1 1 1 1 1 1 1 1\n",
      " 1 1 1 1 1 1 1 1 1 1 1 1 1 1 1 1 1 1 1 1 1 1 1 1 1 1 1 1 1 1 1 1 1 1 1 1 1\n",
      " 1 1 1 1 1 1 1 1 1 1 1 1 1 1 1 1 1 1 1 1 1 1 1 1 1 1 1 1]\n",
      "VISITED NODES:  5\n",
      "UNIVERSE:  {0, 1, 2, 3, 4, 5, 6, 7, 8, 9, 10, 11, 12, 13, 14, 15, 16, 17, 18, 19, 20, 21, 22, 23, 24, 25, 26, 27, 28, 29, 30, 31, 32, 33, 34, 35, 36, 37, 38, 39, 40, 41, 42, 43, 44, 45, 46, 47, 48, 49}\n",
      "COVERING SETS:  [{1, 5, 14, 15, 18, 19, 21, 22, 23, 25, 27, 28, 30, 31, 33, 35, 37, 41, 42, 44, 45, 47}, {3, 6, 7, 9, 10, 12, 15, 17, 18, 20, 24, 26, 28, 29, 31, 32, 36, 39, 46, 48}, {0, 2, 4, 7, 8, 9, 10, 16, 23, 27, 28, 34, 35, 37, 40, 44, 45, 47, 49}, {32, 1, 34, 2, 36, 37, 6, 7, 38, 43, 11, 46, 16, 20, 21, 22, 24, 27}, {0, 1, 2, 5, 10, 12, 13, 14, 17, 26, 28, 32, 34, 35, 37, 38, 41, 44, 45, 48}]\n",
      "COST:  5\n",
      "----------------------------------------------------------------\n",
      "100\n",
      "C  [1 1 1 1 1 1 1 1 1 1 1 1 1 1 1 1 1 1 1 1 1 1 1 1 1 1 1 1 1 1 1 1 1 1 1 1 1\n",
      " 1 1 1 1 1 1 1 1 1 1 1 1 1 1 1 1 1 1 1 1 1 1 1 1 1 1 1 1 1 1 1 1 1 1 1 1 1\n",
      " 1 1 1 1 1 1 1 1 1 1 1 1 1 1 1 1 1 1 1 1 1 1 1 1 1 1 1 1 1 1 1 1 1 1 1 1 1\n",
      " 1 1 1 1 1 1 1 1 1 1 1 1 1 1 1 1 1 1 1 1 1 1 1 1 1 1 1 1 1 1 1 1 1 1 1 1 1\n",
      " 1 1 1 1 1 1 1 1 1 1 1 1 1 1 1 1 1 1 1 1 1 1 1 1 1 1 1 1 1 1 1 1 1 1 1 1 1\n",
      " 1 1 1 1 1 1 1 1 1 1 1 1 1 1 1 1 1 1 1 1 1 1 1 1 1 1 1 1 1 1 1 1 1 1 1 1 1\n",
      " 1 1 1 1 1 1 1 1 1 1 1 1 1 1 1 1 1 1 1 1 1 1 1 1 1 1 1 1 1 1 1 1 1 1 1 1 1\n",
      " 1 1 1 1 1 1 1 1 1 1 1 1 1 1 1 1 1 1 1 1 1 1 1 1 1 1 1 1 1 1 1 1 1 1 1 1 1\n",
      " 1 1 1 1 1 1 1 1 1 1 1 1 1 1 1 1 1 1 1 1 1 1 1 1 1 1 1 1 1 1 1 1 1 1 1 1 1\n",
      " 1 1 1 1 1 1 1 1 1 1 1 1 1 1 1 1 1 1 1 1 1 1 1 1 1 1 1 1 1 1 1 1 1 1 1 1 1\n",
      " 1 1 1 1 1 1 1 1 1 1 1 1 1 1 1 1 1 1 1 1 1 1 1 1 1 1 1 1 1 1 1 1 1 1 1 1 1\n",
      " 1 1 1 1 1 1 1 1 1 1 1 1 1 1 1 1 1 1 1 1]\n",
      "VISITED NODES:  5\n",
      "UNIVERSE:  {0, 1, 2, 3, 4, 5, 6, 7, 8, 9, 10, 11, 12, 13, 14, 15, 16, 17, 18, 19, 20, 21, 22, 23, 24, 25, 26, 27, 28, 29, 30, 31, 32, 33, 34, 35, 36, 37, 38, 39, 40, 41, 42, 43, 44, 45, 46, 47, 48, 49, 50, 51, 52, 53, 54, 55, 56, 57, 58, 59, 60, 61, 62, 63, 64, 65, 66, 67, 68, 69, 70, 71, 72, 73, 74, 75, 76, 77, 78, 79, 80, 81, 82, 83, 84, 85, 86, 87, 88, 89, 90, 91, 92, 93, 94, 95, 96, 97, 98, 99}\n",
      "COVERING SETS:  [{0, 5, 6, 8, 9, 15, 16, 19, 20, 22, 23, 24, 28, 32, 33, 35, 37, 38, 40, 41, 42, 45, 48, 54, 57, 59, 62, 64, 65, 66, 67, 70, 71, 73, 74, 76, 78, 80, 84, 87, 90, 94, 99}, {2, 4, 5, 6, 9, 10, 12, 17, 18, 20, 22, 26, 29, 30, 34, 35, 38, 40, 42, 43, 44, 49, 50, 55, 60, 64, 69, 72, 75, 77, 84, 86, 87, 88, 91, 92, 94, 95, 96, 98}, {0, 1, 3, 6, 11, 14, 15, 16, 20, 24, 26, 28, 30, 34, 36, 39, 46, 51, 52, 56, 59, 62, 63, 65, 66, 69, 70, 77, 79, 80, 82, 84, 89, 90, 96, 97}, {0, 7, 8, 11, 12, 13, 14, 17, 18, 21, 22, 23, 25, 26, 27, 34, 36, 39, 44, 47, 50, 53, 55, 57, 62, 64, 67, 72, 73, 81, 83, 89, 90, 93, 95, 99}, {1, 3, 11, 19, 22, 23, 24, 27, 31, 33, 34, 35, 41, 43, 45, 48, 55, 57, 58, 59, 61, 62, 63, 66, 68, 71, 72, 75, 76, 78, 83, 85, 89, 90, 93, 96, 99}]\n",
      "COST:  5\n"
     ]
    }
   ],
   "source": [
    "def set_covering_problem(universe,subsets,costs):\n",
    "    cost=0\n",
    "    visited=0\n",
    "    #create a unique set - source: documentation\n",
    "    elements=set(e for s in subsets for e in s) \n",
    "    if elements!=universe:\n",
    "        return None\n",
    "    covered=set()\n",
    "    solution=[]\n",
    "    while covered!=elements:\n",
    "        subset = max(subsets,key=lambda s: len(s-covered)/costs[subsets.index(s)])\n",
    "        solution.append(subset)\n",
    "        cost+=costs[subsets.index(subset)]\n",
    "        visited=visited+1\n",
    "        covered |= subset\n",
    "    print(\"VISITED NODES: \",visited)\n",
    "    return solution,cost \n",
    "\n",
    "def start(N):\n",
    "    \"\"\" Start: \n",
    "        N: N\n",
    "        I suppose cost are unit\n",
    "    \"\"\"\n",
    "    sub=problem(N,seed=42)\n",
    "    #all costs are 1 \n",
    "    C=np.full(len(sub),1)\n",
    "    print(\"C \",C)\n",
    "    #with array i got errors\n",
    "    universe=set(range(N))\n",
    "    #create a unique set - source: documentation\n",
    "    subsets=[set(element) for element in sub]\n",
    "    costs=C \n",
    "    set_cover,totalCosts=set_covering_problem(universe,subsets,costs)\n",
    "    print(\"UNIVERSE: \",universe)\n",
    "    print(\"COVERING SETS: \",set_cover)\n",
    "    print(\"COST: \",totalCosts)\n",
    "\n",
    "#N=5\n",
    "print(\"5\")\n",
    "start(5)\n",
    "print(\"----------------------------------------------------------------\")\n",
    "print(\"10\")\n",
    "start(10)\n",
    "print(\"----------------------------------------------------------------\")\n",
    "print(\"20\")\n",
    "start(20)\n",
    "print(\"----------------------------------------------------------------\")\n",
    "print(\"50\")\n",
    "start(50)\n",
    "print(\"----------------------------------------------------------------\")\n",
    "print(\"100\")\n",
    "start(100)\n",
    "\n"
   ]
  }
 ],
 "metadata": {
  "kernelspec": {
   "display_name": "Python 3.8.5 ('base')",
   "language": "python",
   "name": "python3"
  },
  "language_info": {
   "codemirror_mode": {
    "name": "ipython",
    "version": 3
   },
   "file_extension": ".py",
   "mimetype": "text/x-python",
   "name": "python",
   "nbconvert_exporter": "python",
   "pygments_lexer": "ipython3",
   "version": "3.8.5"
  },
  "orig_nbformat": 4,
  "vscode": {
   "interpreter": {
    "hash": "cc76675e192ef18b6983e17795f5033d0dffe1a6388d7e5181d644cbc9b8fa63"
   }
  }
 },
 "nbformat": 4,
 "nbformat_minor": 2
}
