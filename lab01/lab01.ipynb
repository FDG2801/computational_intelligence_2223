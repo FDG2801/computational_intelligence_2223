{
 "cells": [
  {
   "cell_type": "markdown",
   "metadata": {},
   "source": [
    "Lib imports"
   ]
  },
  {
   "cell_type": "code",
   "execution_count": 1,
   "metadata": {},
   "outputs": [],
   "source": [
    "from gx_utils import *\n",
    "import logging\n",
    "import numpy as np\n",
    "import random\n",
    "from random import seed, choice\n",
    "from typing import Callable\n",
    "\n",
    "logging.basicConfig(format=\"%(message)s\", level=logging.INFO)"
   ]
  },
  {
   "cell_type": "markdown",
   "metadata": {},
   "source": [
    "Problem definition - lab delivery"
   ]
  },
  {
   "cell_type": "code",
   "execution_count": 2,
   "metadata": {},
   "outputs": [],
   "source": [
    "def problem(N, seed=None):\n",
    "    random.seed(seed)\n",
    "    return [\n",
    "        list(set(random.randint(0, N - 1) for n in range(random.randint(N // 5, N // 2))))\n",
    "        for n in range(random.randint(N, N * 5))\n",
    "    ]"
   ]
  },
  {
   "cell_type": "markdown",
   "metadata": {},
   "source": [
    "Professor's solution - lab delivery"
   ]
  },
  {
   "cell_type": "code",
   "execution_count": null,
   "metadata": {},
   "outputs": [],
   "source": [
    "def greedy(N):\n",
    "    goal = set(range(N))\n",
    "    covered = set()\n",
    "    solution = list()\n",
    "    all_lists = sorted(problem(N, seed=42), key=lambda l: len(l))\n",
    "    print(all_lists, \" all lists\")\n",
    "    while goal != covered:\n",
    "        x = all_lists.pop(0)\n",
    "        print(x, \" x\")\n",
    "        if not set(x) < covered:\n",
    "            solution.append(x)\n",
    "            covered |= set(x)\n",
    "\n",
    "    logging.info(\n",
    "        f\"Greedy solution for N={N}: w={sum(len(_) for _ in solution)} (bloat={(sum(len(_) for _ in solution)-N)/N*100:.0f}%)\"\n",
    "    )\n",
    "    logging.debug(f\"{solution}\")\n",
    "greedy(5)"
   ]
  },
  {
   "cell_type": "markdown",
   "metadata": {},
   "source": [
    "Greedy solution"
   ]
  },
  {
   "cell_type": "code",
   "execution_count": null,
   "metadata": {},
   "outputs": [],
   "source": [
    "def set_covering_problem_greedy(universe,subsets,costs):\n",
    "    cost=0\n",
    "    visited=0\n",
    "    #create a unique set - source: documentation\n",
    "    elements=set(e for s in subsets for e in s) \n",
    "    if elements!=universe:\n",
    "        return None\n",
    "    covered=set()\n",
    "    solution=[]\n",
    "    while covered!=elements:\n",
    "        subset = max(subsets,key=lambda s: len(s-covered)/costs[subsets.index(s)])\n",
    "        solution.append(subset)\n",
    "        cost+=costs[subsets.index(subset)]\n",
    "        visited=visited+1\n",
    "        covered |= subset\n",
    "    print(\"NUMBER OF VISITED NODES: \",visited)\n",
    "    print(\"w: \",sum(len(_) for _ in solution))\n",
    "    return solution,cost \n",
    "\n",
    "def start(N):\n",
    "    \"\"\" Start: \n",
    "        N: N\n",
    "        I suppose cost are unit\n",
    "    \"\"\"\n",
    "    sub=problem(N,seed=42)\n",
    "    #all costs are 1 \n",
    "    C=np.full(len(sub),1)\n",
    "    #print(\"C \",C) #all 1\n",
    "    universe=set(range(N))\n",
    "    #create a unique set - source: documentation\n",
    "    subsets=[set(element) for element in sub]\n",
    "    costs=C \n",
    "    set_cover,totalCosts=set_covering_problem_greedy(universe,subsets,costs)\n",
    "    print(\"UNIVERSE: \",universe)\n",
    "    print(\"COVERING SETS: \",set_cover)\n",
    "    print(\"COST: \",totalCosts)\n",
    "\n",
    "\n",
    "\n",
    "#N=5\n",
    "print(\"5\")\n",
    "start(5)\n",
    "print(\"----------------------------------------------------------------\")\n",
    "print(\"10\")\n",
    "start(10)\n",
    "print(\"----------------------------------------------------------------\")\n",
    "print(\"20\")\n",
    "start(20)\n",
    "print(\"----------------------------------------------------------------\")\n",
    "print(\"50\")\n",
    "start(50)\n",
    "print(\"----------------------------------------------------------------\")\n",
    "print(\"100\")\n",
    "start(100)\n",
    "print(\"----------------------------------------------------------------\")\n",
    "print(\"500\")\n",
    "start(500)\n",
    "print(\"----------------------------------------------------------------\")\n",
    "print(\"1000\")\n",
    "start(1000)\n",
    "\n"
   ]
  },
  {
   "cell_type": "markdown",
   "metadata": {},
   "source": [
    "Breadth first solution"
   ]
  },
  {
   "cell_type": "code",
   "execution_count": null,
   "metadata": {},
   "outputs": [],
   "source": [
    "def set_covering_problem_bf(universe,subsets,costs):\n",
    "    cost=0\n",
    "    elements=set(e for s in subsets for e in s)\n",
    "    if elements!=universe:\n",
    "        print(\"The subsets don't contain the universe.\")\n",
    "        return None\n",
    "    covered=set()\n",
    "    solution=[]\n",
    "    queue=[]\n",
    "    visited=[]\n",
    "    while covered!=elements:\n",
    "        subset = max(subsets,key=lambda s: len(s-covered))\n",
    "        #print(subset, \" subset\")\n",
    "        queue.append(subset)\n",
    "        x=queue.pop()\n",
    "        if x not in visited:\n",
    "            visited.append(subset)\n",
    "            solution.append(subset)\n",
    "            cost+=costs[subsets.index(subset)]\n",
    "            covered |= subset\n",
    "    print(\"NUMBER OF VISITED NODES: \",len(visited))\n",
    "    print(\"w: \",sum(len(_) for _ in solution))\n",
    "    return solution,cost\n",
    "\n",
    "def start(N):\n",
    "    \"\"\" Start: \n",
    "        N: N\n",
    "        I suppose cost are unit\n",
    "    \"\"\"\n",
    "    sub=problem(N,seed=42)\n",
    "    #all costs are 1 \n",
    "    C=np.full(len(sub),1)\n",
    "    #print(\"C \",C)\n",
    "    universe=set(range(N))\n",
    "    #create a unique set - source: documentation\n",
    "    subsets=[set(element) for element in sub]\n",
    "    costs=C \n",
    "    set_cover,totalCosts=set_covering_problem_bf(universe,subsets,costs)\n",
    "    print(\"UNIVERSE: \",universe)\n",
    "    print(\"COVERING SETS: \",set_cover)\n",
    "    print(\"COST: \",totalCosts)\n",
    "\n",
    "\n",
    "#N=5\n",
    "print(\"5\")\n",
    "start(5)\n",
    "print(\"----------------------------------------------------------------\")\n",
    "print(\"10\")\n",
    "start(10)\n",
    "print(\"----------------------------------------------------------------\")\n",
    "print(\"20\")\n",
    "start(20)\n",
    "print(\"----------------------------------------------------------------\")\n",
    "print(\"50\")\n",
    "start(50)\n",
    "print(\"----------------------------------------------------------------\")\n",
    "print(\"100\")\n",
    "start(100)\n",
    "print(\"----------------------------------------------------------------\")\n",
    "print(\"500\")\n",
    "start(500)\n",
    "print(\"----------------------------------------------------------------\")\n",
    "print(\"1000\")\n",
    "start(1000)\n"
   ]
  },
  {
   "cell_type": "markdown",
   "metadata": {},
   "source": [
    "A* Searching"
   ]
  },
  {
   "cell_type": "code",
   "execution_count": 3,
   "metadata": {},
   "outputs": [],
   "source": [
    "class State:\n",
    "    def __init__(self, data: np.ndarray):\n",
    "        self._data = data.copy()\n",
    "        self._data.flags.writeable = False\n",
    "\n",
    "    def __hash__(self):\n",
    "        return hash(bytes(self._data))\n",
    "\n",
    "    def __eq__(self, other):\n",
    "        return bytes(self._data) == bytes(other._data)\n",
    "\n",
    "    def __lt__(self, other):\n",
    "        return bytes(self._data) < bytes(other._data)\n",
    "\n",
    "    def __str__(self):\n",
    "        return str(self._data)\n",
    "\n",
    "    def __repr__(self):\n",
    "        return repr(self._data)\n",
    "\n",
    "    @property\n",
    "    def data(self):\n",
    "        return self._data\n",
    "\n",
    "    def copy_data(self):\n",
    "        return self._data.copy()"
   ]
  },
  {
   "cell_type": "code",
   "execution_count": 9,
   "metadata": {},
   "outputs": [],
   "source": [
    "#GOAL = State(np.array(list(range(1, SIZE**2)) + [0]).reshape((SIZE, SIZE)))\n",
    "#logging.info(f\"Goal:\\n{GOAL}\")\n",
    "\n",
    "#true is goal is reached\n",
    "def goal_test(state,N):\n",
    "    GOAL = list(set(range(N)))\n",
    "    state_set=set()\n",
    "    test=state.copy_data().tolist()\n",
    "    logging.info(f\"Goal:\\n{GOAL}\")\n",
    "    for e in test:\n",
    "        [state_set.add(i) for i in e]\n",
    "    return list(state_set)==GOAL"
   ]
  },
  {
   "cell_type": "code",
   "execution_count": 11,
   "metadata": {},
   "outputs": [],
   "source": [
    "#return a new_state if elem contains element different from state\n",
    "def result(state, elem):\n",
    "    elem_set = set(elem)\n",
    "    state_set = set()\n",
    "    for e in state.copy_data():\n",
    "        [state_set.add(i) for i in e]\n",
    "    intersection = list(elem_set - state_set)\n",
    "    if intersection == []: return False\n",
    "\n",
    "    new_state = []\n",
    "    [new_state.append(e) for e in state.copy_data().tolist()]\n",
    "    new_state.append(elem)\n",
    "    print(f'append element {elem}')\n",
    "    new_state = sorted(new_state, key=lambda l: len(l))\n",
    "    \n",
    "    return State(np.array(new_state))"
   ]
  },
  {
   "cell_type": "code",
   "execution_count": 13,
   "metadata": {},
   "outputs": [],
   "source": [
    "input_state=sorted(problem(100,seed=42),key=lambda l:len(l))\n",
    "INITIAL_STATE=State(np.array([input_state[0]]))"
   ]
  },
  {
   "cell_type": "code",
   "execution_count": 7,
   "metadata": {},
   "outputs": [],
   "source": [
    "def search(\n",
    "    initial_state: State,\n",
    "    goal_test: Callable,\n",
    "    parent_state: dict,\n",
    "    state_cost: dict,\n",
    "    priority_function: Callable,\n",
    "    unit_cost: Callable,\n",
    "    N\n",
    "):\n",
    "    frontier = PriorityQueue()\n",
    "    parent_state.clear()\n",
    "    state_cost.clear()\n",
    "\n",
    "    state = initial_state\n",
    "    parent_state[state] = None\n",
    "    state_cost[state] = 0\n",
    "    state_repeat=0\n",
    "    GOAL=list(set(range(N)))\n",
    "    \n",
    "    for elem in input_state:\n",
    "        while state is not None and not goal_test(state,N):\n",
    "            print(f'n.state {state_repeat}, state: {state}, elem: {elem}')\n",
    "            #index = input_state.index(elem)\n",
    "            new_state = result(state, elem)\n",
    "            # check if new node contains element different from ones in the state\n",
    "            if not new_state or elem in state.copy_data().tolist():\n",
    "                break\n",
    "            else:\n",
    "                cost = 1\n",
    "                if new_state not in state_cost and new_state not in frontier:\n",
    "                    parent_state[new_state] = state\n",
    "                    state_cost[new_state] = state_cost[state] + cost\n",
    "                    frontier.push(new_state, p=priority_function(new_state))\n",
    "                    logging.debug(f\"Added new node to frontier (cost={state_cost[new_state]})\")\n",
    "                elif new_state in frontier and state_cost[new_state] > state_cost[state] + cost:\n",
    "                    old_cost = state_cost[new_state]\n",
    "                    parent_state[new_state] = state\n",
    "                    state_cost[new_state] = state_cost[state] + cost\n",
    "                    logging.debug(f\"Updated node cost in frontier: {old_cost} -> {state_cost[new_state]}\")\n",
    "        \n",
    "            if frontier:\n",
    "                state = frontier.pop()\n",
    "            else:\n",
    "                state = None\n",
    "        \n",
    "    path = list()\n",
    "    s = state\n",
    "    while s:\n",
    "        path.append(s.copy_data())\n",
    "        s = parent_state[s]\n",
    "\n",
    "    logging.info(f\"Found a solution in {len(path):,} steps; visited {len(state_cost):,} states\")\n",
    "    return list(reversed(path))"
   ]
  },
  {
   "cell_type": "code",
   "execution_count": 12,
   "metadata": {},
   "outputs": [
    {
     "ename": "NameError",
     "evalue": "name 'GOAL' is not defined",
     "output_type": "error",
     "traceback": [
      "\u001b[1;31m---------------------------------------------------------------------------\u001b[0m",
      "\u001b[1;31mNameError\u001b[0m                                 Traceback (most recent call last)",
      "\u001b[1;32m<ipython-input-12-2d3a831605b6>\u001b[0m in \u001b[0;36m<module>\u001b[1;34m\u001b[0m\n\u001b[0;32m      8\u001b[0m \u001b[1;31m#A star\u001b[0m\u001b[1;33m\u001b[0m\u001b[1;33m\u001b[0m\u001b[1;33m\u001b[0m\u001b[0m\n\u001b[0;32m      9\u001b[0m \u001b[1;32mfor\u001b[0m \u001b[0mn\u001b[0m \u001b[1;32min\u001b[0m \u001b[1;33m[\u001b[0m\u001b[1;36m5\u001b[0m\u001b[1;33m,\u001b[0m\u001b[1;36m10\u001b[0m\u001b[1;33m]\u001b[0m\u001b[1;33m:\u001b[0m\u001b[1;33m\u001b[0m\u001b[1;33m\u001b[0m\u001b[0m\n\u001b[1;32m---> 10\u001b[1;33m     final = search(\n\u001b[0m\u001b[0;32m     11\u001b[0m         \u001b[0mINITIAL_STATE\u001b[0m\u001b[1;33m,\u001b[0m\u001b[1;33m\u001b[0m\u001b[1;33m\u001b[0m\u001b[0m\n\u001b[0;32m     12\u001b[0m         \u001b[0mgoal_test\u001b[0m\u001b[1;33m=\u001b[0m\u001b[0mgoal_test\u001b[0m\u001b[1;33m,\u001b[0m\u001b[1;33m\u001b[0m\u001b[1;33m\u001b[0m\u001b[0m\n",
      "\u001b[1;32m<ipython-input-7-3589997b3056>\u001b[0m in \u001b[0;36msearch\u001b[1;34m(initial_state, goal_test, parent_state, state_cost, priority_function, unit_cost, N)\u001b[0m\n\u001b[0;32m     19\u001b[0m     \u001b[0mGOAL\u001b[0m\u001b[1;33m=\u001b[0m\u001b[0mlist\u001b[0m\u001b[1;33m(\u001b[0m\u001b[0mset\u001b[0m\u001b[1;33m(\u001b[0m\u001b[0mrange\u001b[0m\u001b[1;33m(\u001b[0m\u001b[0mN\u001b[0m\u001b[1;33m)\u001b[0m\u001b[1;33m)\u001b[0m\u001b[1;33m)\u001b[0m\u001b[1;33m\u001b[0m\u001b[1;33m\u001b[0m\u001b[0m\n\u001b[0;32m     20\u001b[0m     \u001b[1;32mfor\u001b[0m \u001b[0melem\u001b[0m \u001b[1;32min\u001b[0m \u001b[0minput_state\u001b[0m\u001b[1;33m:\u001b[0m\u001b[1;33m\u001b[0m\u001b[1;33m\u001b[0m\u001b[0m\n\u001b[1;32m---> 21\u001b[1;33m         \u001b[1;32mwhile\u001b[0m \u001b[0mstate\u001b[0m \u001b[1;32mis\u001b[0m \u001b[1;32mnot\u001b[0m \u001b[1;32mNone\u001b[0m \u001b[1;32mand\u001b[0m \u001b[1;32mnot\u001b[0m \u001b[0mgoal_test\u001b[0m\u001b[1;33m(\u001b[0m\u001b[0mstate\u001b[0m\u001b[1;33m)\u001b[0m\u001b[1;33m:\u001b[0m\u001b[1;33m\u001b[0m\u001b[1;33m\u001b[0m\u001b[0m\n\u001b[0m\u001b[0;32m     22\u001b[0m             \u001b[0mprint\u001b[0m\u001b[1;33m(\u001b[0m\u001b[1;34mf'n.state {state_repeat}, state: {state}, elem: {elem}'\u001b[0m\u001b[1;33m)\u001b[0m\u001b[1;33m\u001b[0m\u001b[1;33m\u001b[0m\u001b[0m\n\u001b[0;32m     23\u001b[0m             \u001b[1;31m#index = input_state.index(elem)\u001b[0m\u001b[1;33m\u001b[0m\u001b[1;33m\u001b[0m\u001b[1;33m\u001b[0m\u001b[0m\n",
      "\u001b[1;32m<ipython-input-9-c4da48c4d5b2>\u001b[0m in \u001b[0;36mgoal_test\u001b[1;34m(state)\u001b[0m\n\u001b[0;32m      8\u001b[0m     \u001b[1;32mfor\u001b[0m \u001b[0me\u001b[0m \u001b[1;32min\u001b[0m \u001b[0mtest\u001b[0m\u001b[1;33m:\u001b[0m\u001b[1;33m\u001b[0m\u001b[1;33m\u001b[0m\u001b[0m\n\u001b[0;32m      9\u001b[0m         \u001b[1;33m[\u001b[0m\u001b[0mstate_set\u001b[0m\u001b[1;33m.\u001b[0m\u001b[0madd\u001b[0m\u001b[1;33m(\u001b[0m\u001b[0mi\u001b[0m\u001b[1;33m)\u001b[0m \u001b[1;32mfor\u001b[0m \u001b[0mi\u001b[0m \u001b[1;32min\u001b[0m \u001b[0me\u001b[0m\u001b[1;33m]\u001b[0m\u001b[1;33m\u001b[0m\u001b[1;33m\u001b[0m\u001b[0m\n\u001b[1;32m---> 10\u001b[1;33m     \u001b[1;32mreturn\u001b[0m \u001b[0mlist\u001b[0m\u001b[1;33m(\u001b[0m\u001b[0mstate_set\u001b[0m\u001b[1;33m)\u001b[0m\u001b[1;33m==\u001b[0m\u001b[0mGOAL\u001b[0m\u001b[1;33m\u001b[0m\u001b[1;33m\u001b[0m\u001b[0m\n\u001b[0m",
      "\u001b[1;31mNameError\u001b[0m: name 'GOAL' is not defined"
     ]
    }
   ],
   "source": [
    "parent_state = dict()\n",
    "state_cost = dict()\n",
    "\n",
    "\n",
    "def h(state):\n",
    "    return np.sum((state._data != GOAL._data) & (state._data > 0))\n",
    "\n",
    "#A star\n",
    "for n in [5,10]:\n",
    "    final = search(\n",
    "        INITIAL_STATE,\n",
    "        goal_test=goal_test,\n",
    "        parent_state=parent_state,\n",
    "        state_cost=state_cost,\n",
    "        priority_function=lambda s: state_cost[s] + h(s),\n",
    "        unit_cost=lambda a: len(a),\n",
    "        N=n\n",
    "    )"
   ]
  }
 ],
 "metadata": {
  "kernelspec": {
   "display_name": "Python 3.8.5 ('base')",
   "language": "python",
   "name": "python3"
  },
  "language_info": {
   "codemirror_mode": {
    "name": "ipython",
    "version": 3
   },
   "file_extension": ".py",
   "mimetype": "text/x-python",
   "name": "python",
   "nbconvert_exporter": "python",
   "pygments_lexer": "ipython3",
   "version": "3.8.5"
  },
  "orig_nbformat": 4,
  "vscode": {
   "interpreter": {
    "hash": "cc76675e192ef18b6983e17795f5033d0dffe1a6388d7e5181d644cbc9b8fa63"
   }
  }
 },
 "nbformat": 4,
 "nbformat_minor": 2
}
