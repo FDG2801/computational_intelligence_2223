{
 "cells": [
  {
   "cell_type": "markdown",
   "metadata": {},
   "source": [
    "Libraries import"
   ]
  },
  {
   "cell_type": "code",
   "execution_count": null,
   "metadata": {},
   "outputs": [],
   "source": [
    "from collections import namedtuple\n",
    "from functools import partial\n",
    "from random import choices, randint, randrange, random\n",
    "from typing import List, Optional, Callable, Tuple"
   ]
  },
  {
   "cell_type": "markdown",
   "metadata": {},
   "source": [
    "Starting - variables"
   ]
  },
  {
   "cell_type": "code",
   "execution_count": null,
   "metadata": {},
   "outputs": [],
   "source": [
    "Genome=List[int] #Space of solutions\n",
    "Population=List[Genome] #I can see the population as a list of subsets\n",
    "#---- Callable for evolution ------\n",
    "FitnessFunc=Callable[[Genome],int]\n",
    "PopulateFunc=Callable[[],Population]\n",
    "SelectFunc=Callable[[Population,FitnessFunc], Tuple[Genome,Genome]]\n",
    "CrossoverFunc=Callable[[Genome, Genome], Tuple[Genome,Genome]]\n",
    "MutationFunc=Callable[[Genome],Genome]\n",
    "#------------------------------------\n",
    "Universe=List[int] #universe I have to find"
   ]
  },
  {
   "cell_type": "markdown",
   "metadata": {},
   "source": [
    "Problem function to generate subsets"
   ]
  },
  {
   "cell_type": "code",
   "execution_count": 1,
   "metadata": {},
   "outputs": [],
   "source": [
    "def problem(N, seed=None):\n",
    "    random.seed(seed)\n",
    "    return [\n",
    "        list(set(random.randint(0, N - 1)\n",
    "                 for n in range(random.randint(N // 5, N // 2))))\n",
    "        for n in range(random.randint(N, N * 5))\n",
    "    ]"
   ]
  },
  {
   "cell_type": "markdown",
   "metadata": {},
   "source": [
    "I can see my subset as a \"thing\""
   ]
  },
  {
   "cell_type": "code",
   "execution_count": null,
   "metadata": {},
   "outputs": [],
   "source": [
    "Thing = namedtuple('Thing', ['name', 'value', 'weight'])"
   ]
  },
  {
   "cell_type": "markdown",
   "metadata": {},
   "source": [
    "Utilities function"
   ]
  },
  {
   "cell_type": "code",
   "execution_count": null,
   "metadata": {},
   "outputs": [],
   "source": [
    "#genetic representation of the solution\n",
    "def generate_genome(length:int) -> Genome:  #randomly select 1 or 0 in the Genome list\n",
    "    return choices([0,1], k=length)\n",
    "\n",
    "#function to generate new solutions\n",
    "def generate_population(size:int, genome_length:int)->Population:\n",
    "    return [generate_genome(genome_length) for _ in range(size)]\n",
    "\n",
    "#fitness function: takes genome, list of things and weights and returns a fitness value\n",
    "def fitness(genome: Genome, things: [Thing],weight_limit:int)->int:\n",
    "    if len(genome) != len(things):\n",
    "        return ValueError(\"genome and things must be of the same length\")\n",
    "    \n",
    "    weight=0\n",
    "    value=0\n",
    "\n",
    "    for i, thing in enumerate(things):\n",
    "        if genome[i]==1:\n",
    "            weight+=thing.weight\n",
    "            value+=thing.value\n",
    "\n",
    "            if weight>weight_limit:\n",
    "                return 0 #maximum weight exceeded, return 0\n",
    "    return value\n",
    "\n",
    "#select function to move to the next generation, selecting a pair (parents)\n",
    "#we use a different function for fitness because the first one is used only for the generation 0\n",
    "def selection_pair(population:Population, fitness_func:FitnessFunc)->Population:\n",
    "    #solutions with the highest value should be selected\n",
    "    return choices(\n",
    "        population=population,\n",
    "        weights=[fitness_func(genome) for genome in population],\n",
    "        k=2 #states that we want to get a pair\n",
    "    )\n",
    "\n",
    "#now we need the crossover function\n",
    "#two genomes as a parameter and return two genometer\n",
    "def single_point_crossover(a: Genome, b: Genome) -> Tuple[Genome, Genome]:\n",
    "    if len(a) != len(b):\n",
    "        raise ValueError(\"genomes a and b must be of some length\")\n",
    "\n",
    "    length=len(a)\n",
    "    if length<2:\n",
    "        return a,b\n",
    "    \n",
    "    #this is random.\n",
    "    p=randint(1,length-1)\n",
    "    return a[0:p]+b[p:],b[0:p]+a[p:]\n",
    "\n",
    "#now the mutation step\n",
    "#takes a genome n with a certain probability, change 1 to 0 and 0 to 1\n",
    "def mutation(genome:Genome,num:int=1,probability:float=0.5)->Genome:\n",
    "    for _ in range(num):\n",
    "        index=randrange(len(genome))\n",
    "        genome[index] = genome[index] if random() > probability else abs(genome[index] - 1)\n",
    "    return genome"
   ]
  },
  {
   "cell_type": "markdown",
   "metadata": {},
   "source": [
    "Actual evolution"
   ]
  },
  {
   "cell_type": "code",
   "execution_count": null,
   "metadata": {},
   "outputs": [],
   "source": [
    "#Now we need the actual evolution\n",
    "def run_evolution(\n",
    "    populate_func:PopulateFunc,\n",
    "    fitness_func:FitnessFunc,\n",
    "    fitness_limit: int, #done if exceed this limit.\n",
    "    selection_func:SelectFunc=selection_pair,\n",
    "    crossover_func:CrossoverFunc=single_point_crossover,\n",
    "    mutation_func:MutationFunc=mutation,\n",
    "    generation_limit: int = 100 #maximum number of generations to run if we dont'reach the goal\n",
    ")->Tuple[Population,int]:\n",
    "    population=populate_func()\n",
    "\n",
    "    #generation limit times\n",
    "    for i in range(generation_limit):\n",
    "        #sort so the best is in [0]\n",
    "        population=sorted(\n",
    "            population,\n",
    "            key=lambda genome: fitness_func(genome),\n",
    "            reverse=True\n",
    "        )\n",
    "\n",
    "        #check if already reach the fitness limit\n",
    "        if fitness_func(population[0])>=fitness_limit:\n",
    "            break\n",
    "        \n",
    "        #else new gen, we get two parents and two solution every time\n",
    "        next_generation=population[0:2]\n",
    "\n",
    "        #generate all the new solutions for the new generation\n",
    "        for j in range(int(len(population)/2)-1): #since we already select two, we can avoid to look at part of it\n",
    "            parents=selection_func(population,fitness_func) #select parents\n",
    "            offspring_a,offspring_b=crossover_func(parents[0],parents[1]) #children solutions\n",
    "            offspring_a=mutation_func(offspring_a) #apply mutation\n",
    "            offspring_b=mutation_func(offspring_b)\n",
    "            next_generation+=[offspring_a,offspring_b] #add to the new generation\n",
    "        \n",
    "        population=next_generation\n",
    "\n",
    "    population=sorted(\n",
    "        population,\n",
    "        key=lambda genome: fitness_func(genome),\n",
    "        reverse=True\n",
    "    )\n",
    "    return population,i \n",
    "    \n",
    "population,generations=run_evolution(\n",
    "    populate_func=partial(\n",
    "        generate_population,size=10,genome_length=len(things)\n",
    "    ),\n",
    "    fitness_func=partial(\n",
    "        fitness, things=things,weight_limit=3000\n",
    "    ),\n",
    "    fitness_limit=740,\n",
    "    generation_limit=100\n",
    ")\n",
    "\n",
    "def genome_to_things(genome:Genome,things: [Thing])->[Thing]:\n",
    "    result=[]\n",
    "    for i, thing in enumerate(things):\n",
    "        if genome[i]==1:\n",
    "            result+=[thing.name]\n",
    "    return result\n",
    "\n",
    "print(f\"Number of generations: {generations}\")\n",
    "print(f\"Best solution: {genome_to_things(population[0],things)}\")"
   ]
  }
 ],
 "metadata": {
  "kernelspec": {
   "display_name": "Python 3.8.5 ('base')",
   "language": "python",
   "name": "python3"
  },
  "language_info": {
   "codemirror_mode": {
    "name": "ipython",
    "version": 3
   },
   "file_extension": ".py",
   "mimetype": "text/x-python",
   "name": "python",
   "nbconvert_exporter": "python",
   "pygments_lexer": "ipython3",
   "version": "3.8.5"
  },
  "orig_nbformat": 4,
  "vscode": {
   "interpreter": {
    "hash": "cc76675e192ef18b6983e17795f5033d0dffe1a6388d7e5181d644cbc9b8fa63"
   }
  }
 },
 "nbformat": 4,
 "nbformat_minor": 2
}
