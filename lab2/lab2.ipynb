{
 "cells": [
  {
   "cell_type": "markdown",
   "metadata": {},
   "source": [
    "Libraries import"
   ]
  },
  {
   "cell_type": "code",
   "execution_count": 4,
   "metadata": {},
   "outputs": [],
   "source": [
    "from collections import namedtuple\n",
    "from functools import partial\n",
    "from random import choices, randint, randrange, random\n",
    "from typing import List, Optional, Callable, Tuple\n",
    "import random"
   ]
  },
  {
   "cell_type": "markdown",
   "metadata": {},
   "source": [
    "Problem function to generate subsets + generation of the essential one"
   ]
  },
  {
   "cell_type": "code",
   "execution_count": 25,
   "metadata": {},
   "outputs": [
    {
     "name": "stdout",
     "output_type": "stream",
     "text": [
      "ok\n"
     ]
    }
   ],
   "source": [
    "N=10\n",
    "#pretty much the same of the first lab\n",
    "def problem(N, seed=42):\n",
    "    random.seed(seed)\n",
    "    return [\n",
    "        (set(random.randint(0, N - 1)\n",
    "                 for n in range(random.randint(N // 5, N // 2))))\n",
    "        for n in range(random.randint(N, N * 5))\n",
    "    ]\n",
    "\n",
    "subsets=problem(100)\n",
    "#print(subset)\n",
    "\n",
    "#generating the universe as a list\n",
    "universe = [i for i in range(0, 100)]\n",
    "#print((universe))\n",
    "\n",
    "#checking existence of cover:\n",
    "#removing duplicates\n",
    "elements=set(e for s in subsets for e in s)\n",
    "#print(elements)\n",
    "if sorted(elements) != universe:\n",
    "    print(\"no - please don't go on\")\n",
    "else:\n",
    "    print(\"ok\")\n"
   ]
  },
  {
   "cell_type": "markdown",
   "metadata": {},
   "source": [
    "Utilities function"
   ]
  },
  {
   "cell_type": "markdown",
   "metadata": {},
   "source": [
    "For a GA we need \n",
    "- genetic representation of a solution\n",
    "- function to generate new solutions\n",
    "- fitness function\n",
    "- selection function\n",
    "- crossover function\n",
    "- mutation function\n",
    "To better understand which every of these means, please check the repo 'genetic_algorithm_from_scratch' in my github.\n"
   ]
  },
  {
   "cell_type": "code",
   "execution_count": 111,
   "metadata": {},
   "outputs": [],
   "source": [
    "#Generation of first population -> Step 1\n",
    "def generate_genome(length):\n",
    "    #gives me a solution for each subsets\n",
    "    X=[[random.randint(0,1) for _ in range(length)] for i in range(N)] \n",
    "    #print(X)\n",
    "    #must be long as much as the universe\n",
    "    return X\n",
    "\n",
    "def fitness(genome, subsets):\n",
    "    if len(genome) != len(subsets):\n",
    "        return ValueError(\"genome and things must be of the same length\")\n",
    "\n",
    "    weight=0\n",
    "    value=0\n",
    "    for i,subset in enumerate(subsets):\n",
    "        if genome[i]==1:\n",
    "            weight+=1 #weight is unitary or not? If it is not, a list of weight should be generated\n",
    "    return weight\n",
    "\n",
    "#selection of two individuals by tournament selection\n",
    "def tournament(solutions,subsets):\n",
    "    #value of fitness\n",
    "    f_list=[]\n",
    "    for i, subset in range(len(solutions)), subsets:\n",
    "        if sum(solutions[i])==0:\n",
    "            solutions[i]=[1 for j in range(len(subset))]\n",
    "    for sol,subset in solutions,subsets:\n",
    "        f_list.append(1/fitness(sol,subset))\n",
    "    return f_list\n",
    "\n",
    "#selecting two parents and its index to recover the offspring in the crossover\n",
    "def choose_parents(summed_list_of_fit,population):\n",
    "    for k in range(len(summed_list_of_fit)):\n",
    "        if summed_list_of_fit[k]>random.random():\n",
    "            parent1=population[k-1]\n",
    "            id1=k-1\n",
    "            parent2=population[k]\n",
    "            id2=k\n",
    "            break\n",
    "    return parent1,id1,parent2,id2\n",
    "\n",
    "#cross over function\n",
    "def single_point_crossover(parent1,parent2):\n",
    "    if len(parent1)!=len(parent2):\n",
    "        raise ValueError (\"lunghezze diverse dei padri\")\n",
    "    length=len(parent1)\n",
    "    if length<2:\n",
    "        return parent1,parent2\n",
    "    \n",
    "    p=randint(1,length-1)\n",
    "    offspring_a=parent1[0:p]+parent2[p:]\n",
    "    offspring_b=parent2[0:p]+parent1[p:]\n",
    "    return offspring_a,offspring_b #this will be added in the new gen\n",
    "\n",
    "#mutation step\n",
    "def mutation(new_gen,num:int=1,probability:float=0.5):\n",
    "    H=[]\n",
    "    for j in range(len(new_gen)):\n",
    "        H.append(random.uniform(0,2/N))\n",
    "    for j in range(len(new_gen)):\n",
    "        if H[j] > 1 / N and new_gen[j] == 1:\n",
    "            new_gen[j] = 0\n",
    "        elif H[j] > 1 / N and new_gen[j] == 0:\n",
    "            new_gen[j] = 1\n",
    "    return new_gen"
   ]
  },
  {
   "cell_type": "markdown",
   "metadata": {},
   "source": [
    "Actual evolution"
   ]
  },
  {
   "cell_type": "code",
   "execution_count": 122,
   "metadata": {},
   "outputs": [
    {
     "name": "stdout",
     "output_type": "stream",
     "text": [
      "STEP 1 ----- GENERATION OF FIRST POPULATION\n",
      "Done - moving on\n",
      "----------------------------------------------------------------\n",
      "STEP 2 ----- TOURNAMENT: SELECTION OF TWO INDIVIDUALS\n",
      "Calculating the fitness list\n",
      "Calculating the weight list\n",
      "Calculating parents\n",
      "Done - moving on\n",
      "----------------------------------------------------------------\n",
      "STEP 3 ----- CROSSOVER\n",
      "Done - moving on\n",
      "----------------------------------------------------------------\n",
      "STEP 4 ----- MUTATION\n",
      "Mutating offspring_a\n",
      "Mutating offspring_b\n",
      "Creating the new generation, by adding the mutated offsprings\n",
      "Done - moving on\n",
      "----------------------------------------------------------------\n"
     ]
    }
   ],
   "source": [
    "generation_limit = 100\n",
    "#Step 1 -> generation of fist population\n",
    "print(\"STEP 1 ----- GENERATION OF FIRST POPULATION\")\n",
    "X=generate_genome(len(subsets))\n",
    "print(\"Done - moving on\")\n",
    "#print(X)\n",
    "print(\"----------------------------------------------------------------\")\n",
    "print (\"STEP 2 ----- TOURNAMENT: SELECTION OF TWO INDIVIDUALS\")\n",
    "print(\"Calculating the fitness list\")\n",
    "f_list=[]\n",
    "for i in range(len(X)):\n",
    "    if sum(X[i])==0:\n",
    "        X[i]=[1 for j in range(len(subsets))]\n",
    "for x in X:\n",
    "    f_list.append(1/fitness(x,subsets))\n",
    "#print(f_list)\n",
    "#print(sum(f_list))\n",
    "summed_f_list=sum(f_list)\n",
    "print(\"Calculating the weight list\")\n",
    "weight_list = list(map(lambda x: x / summed_f_list, f_list)) #assign a weight to each element\n",
    "print(\"Calculating parents\")\n",
    "parent_1,id_1,parent_2,id_2=choose_parents(weight_list,X)\n",
    "#print(parent1,id1,parent2,id2)\n",
    "print(\"Done - moving on\")\n",
    "print(\"----------------------------------------------------------------\")\n",
    "print (\"STEP 3 ----- CROSSOVER\")\n",
    "new_gen=[]\n",
    "offspring_a,offspring_b=single_point_crossover(parent_1,parent_2)\n",
    "#new_gen+=[offspring_a,offspring_b]\n",
    "#print(\"PRIMA QUI: \",new_gen)\n",
    "#print(new_gen[1])\n",
    "#print(type(new_gen))\n",
    "print(\"Done - moving on\")\n",
    "print(\"----------------------------------------------------------------\")\n",
    "print (\"STEP 4 ----- MUTATION\")\n",
    "print(\"Mutating offspring_a\")\n",
    "print(\"Mutating offspring_b\")\n",
    "offspring_a=mutation(offspring_a)\n",
    "offspring_b=mutation(offspring_b)\n",
    "print(\"Creating the new generation, by adding the mutated offsprings\")\n",
    "new_gen+=[offspring_a,offspring_b]\n",
    "#print(new_gen)\n",
    "print(\"Done - moving on\")\n",
    "print(\"----------------------------------------------------------------\")"
   ]
  }
 ],
 "metadata": {
  "kernelspec": {
   "display_name": "Python 3.8.5 ('base')",
   "language": "python",
   "name": "python3"
  },
  "language_info": {
   "codemirror_mode": {
    "name": "ipython",
    "version": 3
   },
   "file_extension": ".py",
   "mimetype": "text/x-python",
   "name": "python",
   "nbconvert_exporter": "python",
   "pygments_lexer": "ipython3",
   "version": "3.8.5"
  },
  "orig_nbformat": 4,
  "vscode": {
   "interpreter": {
    "hash": "cc76675e192ef18b6983e17795f5033d0dffe1a6388d7e5181d644cbc9b8fa63"
   }
  }
 },
 "nbformat": 4,
 "nbformat_minor": 2
}
